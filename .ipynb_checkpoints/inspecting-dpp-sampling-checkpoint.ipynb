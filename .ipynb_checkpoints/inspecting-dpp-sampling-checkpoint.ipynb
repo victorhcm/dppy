{
 "cells": [
  {
   "cell_type": "markdown",
   "metadata": {},
   "source": [
    "# Determinantal Point Process in Python\n",
    "\n",
    "First, let's start the environment."
   ]
  },
  {
   "cell_type": "code",
   "execution_count": 1,
   "metadata": {
    "collapsed": false
   },
   "outputs": [],
   "source": [
    "import numpy as np\n",
    "import matplotlib.pyplot as plt\n",
    "\n",
    "# This is a bit of magic to make matplotlib figures appear inline in the notebook\n",
    "# rather than in a new window.\n",
    "%matplotlib inline\n",
    "plt.rcParams['figure.figsize'] = (10.0, 8.0) # set default size of plots\n",
    "plt.rcParams['image.interpolation'] = 'nearest'\n",
    "plt.rcParams['image.cmap'] = 'gray'\n",
    "\n",
    "# Some more magic so that the notebook will reload external python modules;\n",
    "# see http://stackoverflow.com/questions/1907993/autoreload-of-modules-in-ipython\n",
    "%load_ext autoreload\n",
    "%autoreload 2"
   ]
  },
  {
   "cell_type": "markdown",
   "metadata": {},
   "source": [
    "# Questions\n",
    "\n",
    "1. How do I define a $L$ kernel? Can it be defined through $B^T B$?\n",
    "2. The kernel $K$ can be seen as a cumulative function of $L$, since it computes $P_K(A \\subseteq \\mathbf{Y})$ instead of $P_L(\\mathbf{Y} = A)$?"
   ]
  },
  {
   "cell_type": "code",
   "execution_count": 2,
   "metadata": {
    "collapsed": false
   },
   "outputs": [
    {
     "name": "stdout",
     "output_type": "stream",
     "text": [
      "[[0]\n",
      " [1]\n",
      " [2]\n",
      " [3]\n",
      " [4]\n",
      " [5]\n",
      " [6]\n",
      " [7]\n",
      " [8]\n",
      " [9]]\n",
      "[0 1 2 3 4 5 6 7 8 9]\n",
      "[[ 0 -1 -2 -3 -4 -5 -6 -7 -8 -9]\n",
      " [ 1  0 -1 -2 -3 -4 -5 -6 -7 -8]\n",
      " [ 2  1  0 -1 -2 -3 -4 -5 -6 -7]\n",
      " [ 3  2  1  0 -1 -2 -3 -4 -5 -6]\n",
      " [ 4  3  2  1  0 -1 -2 -3 -4 -5]\n",
      " [ 5  4  3  2  1  0 -1 -2 -3 -4]\n",
      " [ 6  5  4  3  2  1  0 -1 -2 -3]\n",
      " [ 7  6  5  4  3  2  1  0 -1 -2]\n",
      " [ 8  7  6  5  4  3  2  1  0 -1]\n",
      " [ 9  8  7  6  5  4  3  2  1  0]]\n",
      "\n",
      "[[0 0 0 0 0 0 0 0 0 0]\n",
      " [1 1 1 1 1 1 1 1 1 1]\n",
      " [2 2 2 2 2 2 2 2 2 2]\n",
      " [3 3 3 3 3 3 3 3 3 3]\n",
      " [4 4 4 4 4 4 4 4 4 4]\n",
      " [5 5 5 5 5 5 5 5 5 5]\n",
      " [6 6 6 6 6 6 6 6 6 6]\n",
      " [7 7 7 7 7 7 7 7 7 7]\n",
      " [8 8 8 8 8 8 8 8 8 8]\n",
      " [9 9 9 9 9 9 9 9 9 9]]\n",
      "[[0 1 2 3 4 5 6 7 8 9]\n",
      " [0 1 2 3 4 5 6 7 8 9]\n",
      " [0 1 2 3 4 5 6 7 8 9]\n",
      " [0 1 2 3 4 5 6 7 8 9]\n",
      " [0 1 2 3 4 5 6 7 8 9]\n",
      " [0 1 2 3 4 5 6 7 8 9]\n",
      " [0 1 2 3 4 5 6 7 8 9]\n",
      " [0 1 2 3 4 5 6 7 8 9]\n",
      " [0 1 2 3 4 5 6 7 8 9]\n",
      " [0 1 2 3 4 5 6 7 8 9]]\n",
      "[[ 0 -1 -2 -3 -4 -5 -6 -7 -8 -9]\n",
      " [ 1  0 -1 -2 -3 -4 -5 -6 -7 -8]\n",
      " [ 2  1  0 -1 -2 -3 -4 -5 -6 -7]\n",
      " [ 3  2  1  0 -1 -2 -3 -4 -5 -6]\n",
      " [ 4  3  2  1  0 -1 -2 -3 -4 -5]\n",
      " [ 5  4  3  2  1  0 -1 -2 -3 -4]\n",
      " [ 6  5  4  3  2  1  0 -1 -2 -3]\n",
      " [ 7  6  5  4  3  2  1  0 -1 -2]\n",
      " [ 8  7  6  5  4  3  2  1  0 -1]\n",
      " [ 9  8  7  6  5  4  3  2  1  0]]\n"
     ]
    }
   ],
   "source": [
    "# Understanding broadcasting, used by Kulesza in the MATLAB code (bsxfun)\n",
    "A = np.arange(0,10) \n",
    "print A[np.newaxis].T\n",
    "print A\n",
    "print A[np.newaxis].T - A\n",
    "# You're taking the first elem, say [0], you fill it until it reaches the same rank of A, then you subtract [0] by\n",
    "# every element in A\n",
    "\n",
    "# it's like I stacked A[np.newaxis].T until it had 9 dims\n",
    "print \"\"\n",
    "print np.tile(A[np.newaxis].T, (1,10))\n",
    "print np.tile(A, (10,1)) \n",
    "print np.tile(A[np.newaxis].T, (1,10)) - np.tile(A, (10,1))"
   ]
  },
  {
   "cell_type": "code",
   "execution_count": 27,
   "metadata": {
    "collapsed": false,
    "scrolled": false
   },
   "outputs": [
    {
     "name": "stdout",
     "output_type": "stream",
     "text": [
      "\n",
      "(xx - xx.T):\n",
      "[[ 0.  -0.1 -0.2 ..., -0.7 -0.8 -0.9]\n",
      " [ 0.1  0.  -0.1 ..., -0.6 -0.7 -0.8]\n",
      " [ 0.2  0.1  0.  ..., -0.5 -0.6 -0.7]\n",
      " ..., \n",
      " [ 0.7  0.6  0.5 ...,  0.  -0.1 -0.2]\n",
      " [ 0.8  0.7  0.6 ...,  0.1  0.  -0.1]\n",
      " [ 0.9  0.8  0.7 ...,  0.2  0.1  0. ]]\n",
      "\n",
      "(xx - xx.T)**2:\n",
      "[[ 0.    0.01  0.04 ...,  0.49  0.64  0.81]\n",
      " [ 0.01  0.    0.01 ...,  0.36  0.49  0.64]\n",
      " [ 0.04  0.01  0.   ...,  0.25  0.36  0.49]\n",
      " ..., \n",
      " [ 0.49  0.36  0.25 ...,  0.    0.01  0.04]\n",
      " [ 0.64  0.49  0.36 ...,  0.01  0.    0.01]\n",
      " [ 0.81  0.64  0.49 ...,  0.04  0.01  0.  ]]\n",
      "\n",
      "(xx - xx.T)**2 + (yy - yy.T)**2:\n",
      "[[ 0.    0.01  0.04 ...,  1.3   1.45  1.62]\n",
      " [ 0.01  0.    0.01 ...,  1.17  1.3   1.45]\n",
      " [ 0.04  0.01  0.   ...,  1.06  1.17  1.3 ]\n",
      " ..., \n",
      " [ 1.3   1.17  1.06 ...,  0.    0.01  0.04]\n",
      " [ 1.45  1.3   1.17 ...,  0.01  0.    0.01]\n",
      " [ 1.62  1.45  1.3  ...,  0.04  0.01  0.  ]]\n",
      "\n",
      "np.exp((xx - xx.T)**2 + (yy - yy.T)**2):\n",
      "[[ 1.          1.01005017  1.04081077 ...,  3.66929667  4.26311452\n",
      "   5.05309032]\n",
      " [ 1.01005017  1.          1.01005017 ...,  3.22199264  3.66929667\n",
      "   4.26311452]\n",
      " [ 1.04081077  1.01005017  1.         ...,  2.88637099  3.22199264\n",
      "   3.66929667]\n",
      " ..., \n",
      " [ 3.66929667  3.22199264  2.88637099 ...,  1.          1.01005017\n",
      "   1.04081077]\n",
      " [ 4.26311452  3.66929667  3.22199264 ...,  1.01005017  1.          1.01005017]\n",
      " [ 5.05309032  4.26311452  3.66929667 ...,  1.04081077  1.01005017  1.        ]]\n",
      "\n",
      "np.exp(-0.5 * ((xx - xx.T)**2 + (yy - yy.T)**2)):\n",
      "[[ 1.          0.99501248  0.98019867 ...,  0.52204578  0.48432457\n",
      "   0.44485807]\n",
      " [ 0.99501248  1.          0.99501248 ...,  0.55710586  0.52204578\n",
      "   0.48432457]\n",
      " [ 0.98019867  0.99501248  1.         ...,  0.58860497  0.55710586\n",
      "   0.52204578]\n",
      " ..., \n",
      " [ 0.52204578  0.55710586  0.58860497 ...,  1.          0.99501248\n",
      "   0.98019867]\n",
      " [ 0.48432457  0.52204578  0.55710586 ...,  0.99501248  1.          0.99501248]\n",
      " [ 0.44485807  0.48432457  0.52204578 ...,  0.98019867  0.99501248  1.        ]]\n",
      "\n",
      "np.exp(-0.5 * ((xx - xx.T)**2 + (yy - yy.T)**2) / sigma**2):\n",
      "[[  1.00000000e+00   6.06530660e-01   1.35335283e-01 ...,   5.90009054e-29\n",
      "    3.26324786e-32   6.63967720e-36]\n",
      " [  6.06530660e-01   1.00000000e+00   6.06530660e-01 ...,   3.92439586e-26\n",
      "    5.90009054e-29   3.26324786e-32]\n",
      " [  1.35335283e-01   6.06530660e-01   1.00000000e+00 ...,   9.60268005e-24\n",
      "    3.92439586e-26   5.90009054e-29]\n",
      " ..., \n",
      " [  5.90009054e-29   3.92439586e-26   9.60268005e-24 ...,   1.00000000e+00\n",
      "    6.06530660e-01   1.35335283e-01]\n",
      " [  3.26324786e-32   5.90009054e-29   3.92439586e-26 ...,   6.06530660e-01\n",
      "    1.00000000e+00   6.06530660e-01]\n",
      " [  6.63967720e-36   3.26324786e-32   5.90009054e-29 ...,   1.35335283e-01\n",
      "    6.06530660e-01   1.00000000e+00]]\n"
     ]
    }
   ],
   "source": [
    "n = 10 # thus, N = n^2. As I'm sampling from a plane, D = 2\n",
    "sigma = 0.1 \n",
    "grid_points = np.arange(n) / float(n)\n",
    "xx, yy = np.meshgrid(grid_points, grid_points) # every possibility in the grid\n",
    "\n",
    "xx = xx.flatten()[np.newaxis].T\n",
    "yy = yy.flatten()[np.newaxis].T\n",
    "\n",
    "print \"\\n(xx - xx.T):\\n\", (xx - xx.T)\n",
    "print \"\\n(xx - xx.T)**2:\\n\",(xx - xx.T)**2 \n",
    "print \"\\n(xx - xx.T)**2 + (yy - yy.T)**2:\\n\", (xx - xx.T)**2 + (yy - yy.T)**2 \n",
    "print \"\\nnp.exp((xx - xx.T)**2 + (yy - yy.T)**2):\\n\", np.exp((xx - xx.T)**2 + (yy - yy.T)**2)\n",
    "print \"\\nnp.exp(-0.5 * ((xx - xx.T)**2 + (yy - yy.T)**2)):\\n\", np.exp(-0.5 * ((xx - xx.T)**2 + (yy - yy.T)**2))\n",
    "print \"\\nnp.exp(-0.5 * ((xx - xx.T)**2 + (yy - yy.T)**2) / sigma**2):\\n\", np.exp(-0.5 * ((xx - xx.T)**2 + (yy - yy.T)**2) / sigma**2)\n",
    "L = np.exp(-0.5 * ((xx - xx.T)**2 + (yy - yy.T)**2) / sigma**2)"
   ]
  },
  {
   "cell_type": "code",
   "execution_count": 29,
   "metadata": {
    "collapsed": false
   },
   "outputs": [
    {
     "name": "stdout",
     "output_type": "stream",
     "text": [
      "the pair (xx[i], yy[i]) contains every possible grid configuration\n",
      "xx: (100, 1)\n",
      "yy: (100, 1)\n",
      "L: (100, 100)\n"
     ]
    }
   ],
   "source": [
    "print \"the pair (xx[i], yy[i]) contains every possible grid configuration\"\n",
    "print \"xx:\", xx.shape\n",
    "print \"yy:\", yy.shape\n",
    "print \"L:\", L.shape"
   ]
  },
  {
   "cell_type": "markdown",
   "metadata": {},
   "source": [
    "Mapping indices position to every point in the grid"
   ]
  },
  {
   "cell_type": "code",
   "execution_count": 69,
   "metadata": {
    "collapsed": false
   },
   "outputs": [
    {
     "name": "stdout",
     "output_type": "stream",
     "text": [
      "[ 0.  0.]\n",
      "[ 0.1  0. ]\n"
     ]
    }
   ],
   "source": [
    "#idx_to_point = { i: point for i, point in enumerate(zip(xx,yy)) }\n",
    "#print idx_to_point[0][0][0]\n",
    "\n",
    "idx_to_point = np.hstack((xx, yy))\n",
    "print idx_to_point[0]\n",
    "print idx_to_point[1]"
   ]
  },
  {
   "cell_type": "markdown",
   "metadata": {},
   "source": [
    "## Computing probabilities using the ensemble kernel $L$\n",
    "\n",
    "First, computing individual probabilities."
   ]
  },
  {
   "cell_type": "code",
   "execution_count": 30,
   "metadata": {
    "collapsed": false
   },
   "outputs": [
    {
     "name": "stdout",
     "output_type": "stream",
     "text": [
      "Pr(Y = 0) = 1.0\n",
      "Pr(Y = 1) = 1.0\n"
     ]
    }
   ],
   "source": [
    "# Computing some probabilities using L-ensembles\n",
    "\n",
    "# computing the probability of a singleton {i}, i.e., a set containing a single element\n",
    "# np.linalg.det(L[0,0])\n",
    "print \"Pr(Y = 0) =\", L[0,0]\n",
    "print \"Pr(Y = 1) =\", L[1,1]"
   ]
  },
  {
   "cell_type": "markdown",
   "metadata": {},
   "source": [
    "Probabilities of more elements."
   ]
  },
  {
   "cell_type": "code",
   "execution_count": 75,
   "metadata": {
    "collapsed": false
   },
   "outputs": [
    {
     "name": "stdout",
     "output_type": "stream",
     "text": [
      "probability of selecting elements (0,0) and (1,0) in the grid\n",
      "[[ 1.          0.60653066]\n",
      " [ 0.60653066  1.        ]]\n",
      "0.632120558829\n",
      "by hand: 0.63212055848\n",
      "\n",
      "probability of selecting elements (0,0),(1,0),(2,0) in the grid\n",
      "[[ 1.          0.60653066  0.13533528]\n",
      " [ 0.60653066  1.          0.60653066]\n",
      " [ 0.13533528  0.60653066  1.        ]]\n",
      "0.345499615504\n",
      "\n",
      "probability of including all points\n",
      "\n",
      "[[  1.00000000e+00   6.06530660e-01   1.35335283e-01 ...,   5.90009054e-29\n",
      "    3.26324786e-32   6.63967720e-36]\n",
      " [  6.06530660e-01   1.00000000e+00   6.06530660e-01 ...,   3.92439586e-26\n",
      "    5.90009054e-29   3.26324786e-32]\n",
      " [  1.35335283e-01   6.06530660e-01   1.00000000e+00 ...,   9.60268005e-24\n",
      "    3.92439586e-26   5.90009054e-29]\n",
      " ..., \n",
      " [  5.90009054e-29   3.92439586e-26   9.60268005e-24 ...,   1.00000000e+00\n",
      "    6.06530660e-01   1.35335283e-01]\n",
      " [  3.26324786e-32   5.90009054e-29   3.92439586e-26 ...,   6.06530660e-01\n",
      "    1.00000000e+00   6.06530660e-01]\n",
      " [  6.63967720e-36   3.26324786e-32   5.90009054e-29 ...,   1.35335283e-01\n",
      "    6.06530660e-01   1.00000000e+00]]\n",
      "3.6363232855e-51\n"
     ]
    }
   ],
   "source": [
    "print \"probability of selecting elements (0,0) and (1,0) in the grid\"\n",
    "print L[0:2, 0:2]\n",
    "print np.linalg.det(L[0:2, 0:2])\n",
    "print \"by hand:\", 1*1 - 0.60653066**2\n",
    "print \n",
    "print \"probability of selecting elements (0,0),(1,0),(2,0) in the grid\"\n",
    "print L[0:3, 0:3]\n",
    "print np.linalg.det(L[0:3, 0:3])\n",
    "print\n",
    "print \"probability of including all points\"\n",
    "print \"\\n\", L\n",
    "print np.linalg.det(L)\n",
    "\n",
    "#print \"\\n\", L[3, 3]\n",
    "#print np.linalg.det(L[0:3, 0:3])\n"
   ]
  },
  {
   "cell_type": "code",
   "execution_count": 38,
   "metadata": {
    "collapsed": false
   },
   "outputs": [
    {
     "name": "stdout",
     "output_type": "stream",
     "text": [
      "[[1 2 3 1]\n",
      " [4 5 6 2]\n",
      " [7 8 9 3]\n",
      " [0 0 0 4]]\n"
     ]
    },
    {
     "data": {
      "text/plain": [
       "array([[1, 3, 1],\n",
       "       [7, 9, 3],\n",
       "       [0, 0, 4]])"
      ]
     },
     "execution_count": 38,
     "metadata": {},
     "output_type": "execute_result"
    }
   ],
   "source": [
    "# taking all but one column trick\n",
    "A = np.array([[1,2,3,1],[4,5,6,2],[7,8,9,3],[0,0,0,4]])\n",
    "print A\n",
    "A[ [[0],[2],[3]] , [0,2,3] ]"
   ]
  },
  {
   "cell_type": "code",
   "execution_count": 39,
   "metadata": {
    "collapsed": false
   },
   "outputs": [
    {
     "name": "stdout",
     "output_type": "stream",
     "text": [
      "i = {0,1,2}: 0.345499615504\n",
      "i = {0,1,3}: 0.615505274067\n",
      "i = {0,1,4}: 0.632001557148\n",
      "i = {0,1,9}: 0.632120558829\n",
      "\n",
      "As expected, the set {0,1,2} has lower probability than other sets with more distant numbers, such as {0,1,3}, {0,1,9}\n"
     ]
    }
   ],
   "source": [
    "print \"i = {0,1,2}:\", \n",
    "#print L[ [[0],[1],[2]] , [0,1,2] ]\n",
    "print np.linalg.det(L[ [[0],[1],[2]] , [0,1,2] ])\n",
    "\n",
    "print \"i = {0,1,3}:\", \n",
    "#print L[ [[0],[1],[3]] , [0,1,3] ]\n",
    "print np.linalg.det(L[ [[0],[1],[3]] , [0,1,3] ])\n",
    "\n",
    "print \"i = {0,1,4}:\", \n",
    "#print L[ [[0],[1],[4]] , [0,1,4] ]\n",
    "print np.linalg.det(L[ [[0],[1],[4]] , [0,1,4] ])\n",
    "\n",
    "print \"i = {0,1,9}:\", \n",
    "#print L[ [[0],[1],[9]] , [0,1,9] ]\n",
    "print np.linalg.det(L[ [[0],[1],[9]] , [0,1,9] ])\n",
    "\n",
    "print \"\\nAs expected, the set {0,1,2} has lower probability than other sets with more distant numbers,\",\n",
    "print \"such as {0,1,3}, {0,1,9}\""
   ]
  },
  {
   "cell_type": "code",
   "execution_count": 40,
   "metadata": {
    "collapsed": false
   },
   "outputs": [
    {
     "name": "stdout",
     "output_type": "stream",
     "text": [
      "[[0], [3]]\n",
      "[[1 1]\n",
      " [0 4]]\n"
     ]
    }
   ],
   "source": [
    "# coding a way to use only the elements that i'm interested\n",
    "A = np.array([[1,2,3,1],[4,5,6,2],[7,8,9,3],[0,0,0,4]])\n",
    "selected_items = [0,3]\n",
    "#br_idxs = map(lambda x: list(x), selected_items) # broadcasted items\n",
    "br_idxs = [[a] for a in selected_items]\n",
    "\n",
    "print br_idxs\n",
    "print A[br_idxs, selected_items]"
   ]
  },
  {
   "cell_type": "markdown",
   "metadata": {},
   "source": [
    "## Computing kernel $K$ from ensemble $L$\n",
    "\n",
    "There are two ways to compute the marginal kernel $K$. Using the following operation:\n",
    "\n",
    "$K = L (L+I)^{-1}$.\n",
    "\n",
    "Or using the eigendecomposition of $L$:\n",
    "\n",
    "$K = \\sum_{n=1}^N{( \\frac{\\lambda_n}{\\lambda_n + 1} \\mathbf{v_n} \\mathbf{v_n}^T )}$."
   ]
  },
  {
   "cell_type": "code",
   "execution_count": 70,
   "metadata": {
    "collapsed": false
   },
   "outputs": [
    {
     "name": "stdout",
     "output_type": "stream",
     "text": [
      "K = [[  2.92187927e+00   2.40410551e+00   1.02997297e+00 ...,   2.41262239e-14\n",
      "    5.67511804e-16   8.09344647e-18]\n",
      " [  2.40410551e+00   3.43187738e+00   2.51790147e+00 ...,   6.22352262e-13\n",
      "    2.41262239e-14   5.67511804e-16]\n",
      " [  1.02997297e+00   2.51790147e+00   3.45726869e+00 ...,   9.73321340e-12\n",
      "    6.22352262e-13   2.41262239e-14]\n",
      " ..., \n",
      " [  2.41262239e-14   6.22352262e-13   9.73321340e-12 ...,   3.45726869e+00\n",
      "    2.51790147e+00   1.02997297e+00]\n",
      " [  5.67511804e-16   2.41262239e-14   6.22352262e-13 ...,   2.51790147e+00\n",
      "    3.43187738e+00   2.40410551e+00]\n",
      " [  8.09344647e-18   5.67511804e-16   2.41262239e-14 ...,   1.02997297e+00\n",
      "    2.40410551e+00   2.92187927e+00]]\n"
     ]
    }
   ],
   "source": [
    "import scipy.linalg\n",
    "\n",
    "# Using the first form:\n",
    "K = L.dot( L + np.eye(L.shape[0], L.shape[1]) )\n",
    "print \"K =\", K\n",
    "\n",
    "\n",
    "# or using eigendecomposition:\n",
    "#eV, eD = scipy.linalg.eig(L)\n",
    "#\n",
    "# (eV / (eV + 1.0))\n",
    "#Lrecomp = np.zeros_like(eD)\n",
    "#for i in xrange(eD.shape[0]):\n",
    "#    print (eV[i]/(eV[i] + 1))\n",
    "#    print (eD[i].dot(eD[i].T))\n",
    "#    Lrecomp[i,:] = (eV[i]/(eV[i] + 1)) * eD[i].dot(eD[i].T)\n",
    "\n"
   ]
  },
  {
   "cell_type": "code",
   "execution_count": 72,
   "metadata": {
    "collapsed": false
   },
   "outputs": [
    {
     "name": "stdout",
     "output_type": "stream",
     "text": [
      "i = {0,1,2}: 4.99038723497\n",
      "i = {0,1,3}: 12.6287989816\n",
      "i = {0,1,4}: 14.5252532566\n",
      "i = {0,1,9}: 12.4115823498\n"
     ]
    }
   ],
   "source": [
    "# computing the same previous probabilities, but using the marginal kernel K\n",
    "def rev_idxs(items):\n",
    "    idxs_list = [[a] for a in items]\n",
    "    return idxs_list, items\n",
    "\n",
    "print \"i = {0,1,2}:\",\n",
    "print np.linalg.det(K[ rev_idxs([0,1,2]) ])\n",
    "\n",
    "print \"i = {0,1,3}:\",\n",
    "print np.linalg.det(K[ rev_idxs([0,1,3]) ])\n",
    "\n",
    "print \"i = {0,1,4}:\",\n",
    "print np.linalg.det(K[ rev_idxs([0,1,4]) ])\n",
    "\n",
    "print \"i = {0,1,9}:\",\n",
    "print np.linalg.det(K[ rev_idxs([0,1,9]) ])"
   ]
  },
  {
   "cell_type": "markdown",
   "metadata": {},
   "source": [
    "As ensemble $L$, notice that $K$ is not necessarily normalized, as it is also a state of proportionality. Also, $K$ computes a different probability of $L$. $K$ comprises the marginal probabilities of inclusion for subsets $A$, while $L$ specifies atomic probabilities for every possible instantiation of $\\mathbf{Y}$."
   ]
  },
  {
   "cell_type": "markdown",
   "metadata": {},
   "source": [
    "## Dummy sampling algorithm\n",
    "\n",
    "A dummy sampling approach consists of sampling an element a subset/element $A = {i}$ with probability $P(A = \\{i\\})$. After sampling the first element, we recompute the probabilities, but conditioning on the value that was previously sampled. Kulesza et al. presents a better approach based on the eigendecomposition, that we shall see further ahead.\n",
    "\n",
    "In this sampling problem, we shall consider the same example of sampling a set of points $\\{1,2,\\dots,n\\}$ from a 2D grid. Reintroducing the data:"
   ]
  },
  {
   "cell_type": "code",
   "execution_count": 73,
   "metadata": {
    "collapsed": false
   },
   "outputs": [],
   "source": [
    "n = 10 # thus, N = n^2. As I'm sampling from a plane, D = 2\n",
    "sigma = 0.1 \n",
    "grid_points = np.arange(n) / float(n)"
   ]
  },
  {
   "cell_type": "markdown",
   "metadata": {},
   "source": [
    "Defining functions to compute probabilities:"
   ]
  },
  {
   "cell_type": "code",
   "execution_count": 82,
   "metadata": {
    "collapsed": false
   },
   "outputs": [
    {
     "name": "stdout",
     "output_type": "stream",
     "text": [
      "sanity check\n",
      "i = {0,1,2}: 0.345499615504\n",
      "i = {1,2,3}: 0.345499615504\n",
      "\n",
      "sampling distance points in the grid:\n",
      "i = {0,50,99}: 0.999999999986\n",
      "i = {0,33,77}: 0.99999998477\n",
      "i = {0,10,20}: 0.345499615504\n",
      "\n",
      "i = {0,1,2}: 0.345499615504\n",
      "B = {3} | A = {0,1,2}: 3.14657952782e+44\n",
      "B = {4} | A = {0,1,2}: 5.88077261179e+44\n",
      "B = {9} | A = {0,1,2}: 6.0585699045e+44\n",
      "\n",
      "B = {2} | A = {0,1}: 1.14564728473e+44\n",
      "B = {3} | A = {0,1}: 2.04096304113e+44\n",
      "B = {9} | A = {0,1}: 2.0960579096e+44\n"
     ]
    }
   ],
   "source": [
    "class DPP:\n",
    "    def __init__(self, grid_points):\n",
    "        self.n = len(grid_points)\n",
    "        self.elements = range(0, self.n)\n",
    "        self.sigma = 0.1\n",
    "        \n",
    "        # create L-ensemble\n",
    "        self.xx, self.yy = np.meshgrid(grid_points, grid_points)\n",
    "        self.xx = xx.flatten()[np.newaxis].T\n",
    "        self.yy = yy.flatten()[np.newaxis].T\n",
    "        self.L = np.exp(-0.5 * ((self.xx - self.xx.T)**2 + (self.yy - self.yy.T)**2) / self.sigma**2)\n",
    "\n",
    "    def _idxs(self, items):\n",
    "        idxs_list = [[a] for a in items]\n",
    "        return idxs_list, items\n",
    "\n",
    "    def _rev_idxs(self, items):\n",
    "        # selects the opposite of the items specified\n",
    "        pass\n",
    "    \n",
    "    def prob(self, items):\n",
    "        return np.linalg.det( L[ self._idxs(items) ] )\n",
    "    \n",
    "    def cond_prob(self, new_items, sampled = []):\n",
    "        \"\"\"TODO implement the conditioning function\"\"\"\n",
    "        if not sampled:\n",
    "            return self.prob(new_items)\n",
    "        \n",
    "        items = new_items + sampled\n",
    "        conj = np.linalg.det( L[ self._idxs(items) ] )\n",
    "        \n",
    "        # creating Y - A, i.e. Y_omega - sampled\n",
    "        Y_omega = range(0, self.n)\n",
    "        Y_inv = [y for y in Y_omega if y not in sampled]\n",
    "        \n",
    "        # invA or inv_sampled\n",
    "        I_invA = np.zeros_like(L)\n",
    "        I_invA[Y_inv, Y_inv] = 1\n",
    "        \n",
    "        # normalization \n",
    "        norm = np.linalg.det( L + I_invA )\n",
    "        return conj / float(norm)\n",
    "    \n",
    "    def dummy_sampling(self, num_samples):      \n",
    "        Y = self.elements\n",
    "        sampled = []\n",
    "        for it in xrange(num_samples):\n",
    "            print \"Iteration: %d\" % it\n",
    "            \n",
    "            prbs  = [self.cond_prob([y], sampled) for y in Y]\n",
    "            prbs /= np.sum(prbs)\n",
    "            \n",
    "            elem_sampled = np.random.choice(Y, 1, p=prbs)\n",
    "            sampled.append(elem_sampled)\n",
    "            \n",
    "            # creating Y - A, i.e. Y_omega - sampled\n",
    "            Y.remove(elem_sampled)\n",
    "            \n",
    "            print \"Y\", Y\n",
    "            print \"p\", prbs\n",
    "            print \"s\", sampled\n",
    "            print \n",
    "            \n",
    "        return sampled\n",
    "            \n",
    "dpp_grid = DPP(grid_points)\n",
    "\n",
    "print \"sanity check\"\n",
    "print \"i = {0,1,2}:\", dpp_grid.prob([0,1,2])\n",
    "print \"i = {1,2,3}:\", dpp_grid.prob([1,2,3])\n",
    "print \n",
    "print \"sampling distance points in the grid:\"\n",
    "print \"i = {0,50,99}:\", dpp_grid.prob([0,50,99]) # selecting distant points in the diagonal\n",
    "print \"i = {0,33,77}:\", dpp_grid.prob([0,33,77])\n",
    "print \"i = {0,10,20}:\", dpp_grid.prob([0,10,20])\n",
    "print\n",
    "print \"i = {0,1,2}:\", dpp_grid.prob([0,1,2])\n",
    "print \"B = {3} | A = {0,1,2}:\", dpp_grid.cond_prob([3], [0,1,2])\n",
    "print \"B = {4} | A = {0,1,2}:\", dpp_grid.cond_prob([4], [0,1,2])\n",
    "print \"B = {9} | A = {0,1,2}:\", dpp_grid.cond_prob([9], [0,1,2])\n",
    "print \n",
    "print \"B = {2} | A = {0,1}:\", dpp_grid.cond_prob([2], [0,1])\n",
    "print \"B = {3} | A = {0,1}:\", dpp_grid.cond_prob([3], [0,1])\n",
    "print \"B = {9} | A = {0,1}:\", dpp_grid.cond_prob([9], [0,1])"
   ]
  },
  {
   "cell_type": "code",
   "execution_count": 63,
   "metadata": {
    "collapsed": false
   },
   "outputs": [
    {
     "name": "stdout",
     "output_type": "stream",
     "text": [
      "Iteration: 0\n",
      "Y [1, 2, 3, 4, 5, 6, 7, 8, 9]\n",
      "p [ 0.1  0.1  0.1  0.1  0.1  0.1  0.1  0.1  0.1  0.1]\n",
      "s [array([0])]\n",
      "\n",
      "Iteration: 1\n",
      "Y [2, 3, 4, 5, 6, 7, 8, 9]\n",
      "p [ 0.09754429  0.11277385  0.11281169  0.11281169  0.11281169  0.11281169\n",
      "  0.11281169  0.11281169  0.11281169]\n",
      "s [array([0]), array([1])]\n",
      "\n",
      "Iteration: 2\n",
      "Y [2, 3, 4, 5, 6, 7, 9]\n",
      "p [ 0.1081524   0.12736464  0.12741382  0.12741383  0.12741383  0.12741383\n",
      "  0.12741383  0.12741383]\n",
      "s [array([0]), array([1]), array([8])]\n",
      "\n",
      "Iteration: 3\n",
      "Y [2, 3, 4, 5, 6, 9]\n",
      "p [ 0.12905148  0.15197624  0.15203493  0.15203493  0.15198393  0.13145924\n",
      "  0.13145924]\n",
      "s [array([0]), array([1]), array([8]), array([7])]\n",
      "\n",
      "Iteration: 4\n",
      "Y [2, 3, 5, 6, 9]\n",
      "p [ 0.15306023  0.1802499   0.18031951  0.1802499   0.15306023  0.15306023]\n",
      "s [array([0]), array([1]), array([8]), array([7]), array([4])]\n",
      "\n"
     ]
    },
    {
     "data": {
      "text/plain": [
       "[array([0]), array([1]), array([8]), array([7]), array([4])]"
      ]
     },
     "execution_count": 63,
     "metadata": {},
     "output_type": "execute_result"
    }
   ],
   "source": [
    "dpp_grid.dummy_sampling(5)"
   ]
  }
 ],
 "metadata": {
  "kernelspec": {
   "display_name": "Python 2",
   "language": "python",
   "name": "python2"
  },
  "language_info": {
   "codemirror_mode": {
    "name": "ipython",
    "version": 2
   },
   "file_extension": ".py",
   "mimetype": "text/x-python",
   "name": "python",
   "nbconvert_exporter": "python",
   "pygments_lexer": "ipython2",
   "version": "2.7.6"
  }
 },
 "nbformat": 4,
 "nbformat_minor": 0
}
