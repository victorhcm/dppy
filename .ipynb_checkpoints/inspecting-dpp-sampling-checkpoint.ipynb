{
 "cells": [
  {
   "cell_type": "markdown",
   "metadata": {},
   "source": [
    "# Determinantal Point Process in Python\n",
    "\n",
    "First, let's start the environment."
   ]
  },
  {
   "cell_type": "code",
   "execution_count": 1,
   "metadata": {
    "collapsed": false
   },
   "outputs": [],
   "source": [
    "import numpy as np\n",
    "import matplotlib.pyplot as plt\n",
    "\n",
    "# This is a bit of magic to make matplotlib figures appear inline in the notebook\n",
    "# rather than in a new window.\n",
    "%matplotlib inline\n",
    "plt.rcParams['figure.figsize'] = (10.0, 8.0) # set default size of plots\n",
    "plt.rcParams['image.interpolation'] = 'nearest'\n",
    "plt.rcParams['image.cmap'] = 'gray'\n",
    "\n",
    "# Some more magic so that the notebook will reload external python modules;\n",
    "# see http://stackoverflow.com/questions/1907993/autoreload-of-modules-in-ipython\n",
    "%load_ext autoreload\n",
    "%autoreload 2"
   ]
  },
  {
   "cell_type": "markdown",
   "metadata": {},
   "source": [
    "# Questions\n",
    "\n",
    "1. How do I define a $L$ kernel? Can it be defined through $B^T B$?\n",
    "2. The kernel $K$ can be seen as a cumulative function of $L$, since it computes $P_K(A \\subseteq \\mathbf{Y})$ instead of $P_L(\\mathbf{Y} = A)$?"
   ]
  },
  {
   "cell_type": "code",
   "execution_count": 2,
   "metadata": {
    "collapsed": false
   },
   "outputs": [
    {
     "name": "stdout",
     "output_type": "stream",
     "text": [
      "[[0]\n",
      " [1]\n",
      " [2]\n",
      " [3]\n",
      " [4]\n",
      " [5]\n",
      " [6]\n",
      " [7]\n",
      " [8]\n",
      " [9]]\n",
      "[0 1 2 3 4 5 6 7 8 9]\n",
      "[[ 0 -1 -2 -3 -4 -5 -6 -7 -8 -9]\n",
      " [ 1  0 -1 -2 -3 -4 -5 -6 -7 -8]\n",
      " [ 2  1  0 -1 -2 -3 -4 -5 -6 -7]\n",
      " [ 3  2  1  0 -1 -2 -3 -4 -5 -6]\n",
      " [ 4  3  2  1  0 -1 -2 -3 -4 -5]\n",
      " [ 5  4  3  2  1  0 -1 -2 -3 -4]\n",
      " [ 6  5  4  3  2  1  0 -1 -2 -3]\n",
      " [ 7  6  5  4  3  2  1  0 -1 -2]\n",
      " [ 8  7  6  5  4  3  2  1  0 -1]\n",
      " [ 9  8  7  6  5  4  3  2  1  0]]\n",
      "\n",
      "[[0 0 0 0 0 0 0 0 0 0]\n",
      " [1 1 1 1 1 1 1 1 1 1]\n",
      " [2 2 2 2 2 2 2 2 2 2]\n",
      " [3 3 3 3 3 3 3 3 3 3]\n",
      " [4 4 4 4 4 4 4 4 4 4]\n",
      " [5 5 5 5 5 5 5 5 5 5]\n",
      " [6 6 6 6 6 6 6 6 6 6]\n",
      " [7 7 7 7 7 7 7 7 7 7]\n",
      " [8 8 8 8 8 8 8 8 8 8]\n",
      " [9 9 9 9 9 9 9 9 9 9]]\n",
      "[[0 1 2 3 4 5 6 7 8 9]\n",
      " [0 1 2 3 4 5 6 7 8 9]\n",
      " [0 1 2 3 4 5 6 7 8 9]\n",
      " [0 1 2 3 4 5 6 7 8 9]\n",
      " [0 1 2 3 4 5 6 7 8 9]\n",
      " [0 1 2 3 4 5 6 7 8 9]\n",
      " [0 1 2 3 4 5 6 7 8 9]\n",
      " [0 1 2 3 4 5 6 7 8 9]\n",
      " [0 1 2 3 4 5 6 7 8 9]\n",
      " [0 1 2 3 4 5 6 7 8 9]]\n",
      "[[ 0 -1 -2 -3 -4 -5 -6 -7 -8 -9]\n",
      " [ 1  0 -1 -2 -3 -4 -5 -6 -7 -8]\n",
      " [ 2  1  0 -1 -2 -3 -4 -5 -6 -7]\n",
      " [ 3  2  1  0 -1 -2 -3 -4 -5 -6]\n",
      " [ 4  3  2  1  0 -1 -2 -3 -4 -5]\n",
      " [ 5  4  3  2  1  0 -1 -2 -3 -4]\n",
      " [ 6  5  4  3  2  1  0 -1 -2 -3]\n",
      " [ 7  6  5  4  3  2  1  0 -1 -2]\n",
      " [ 8  7  6  5  4  3  2  1  0 -1]\n",
      " [ 9  8  7  6  5  4  3  2  1  0]]\n"
     ]
    }
   ],
   "source": [
    "# Understanding broadcasting, used by Kulesza in the MATLAB code (bsxfun)\n",
    "A = np.arange(0,10) \n",
    "print A[np.newaxis].T\n",
    "print A\n",
    "print A[np.newaxis].T - A\n",
    "# You're taking the first elem, say [0], you fill it until it reaches the same rank of A, then you subtract [0] by\n",
    "# every element in A\n",
    "\n",
    "# it's like I stacked A[np.newaxis].T until it had 9 dims\n",
    "print \"\"\n",
    "print np.tile(A[np.newaxis].T, (1,10))\n",
    "print np.tile(A, (10,1)) \n",
    "print np.tile(A[np.newaxis].T, (1,10)) - np.tile(A, (10,1))"
   ]
  },
  {
   "cell_type": "code",
   "execution_count": 3,
   "metadata": {
    "collapsed": false,
    "scrolled": false
   },
   "outputs": [
    {
     "name": "stdout",
     "output_type": "stream",
     "text": [
      "\n",
      "xx.T - xx\n",
      "[[ 0.  -0.1 -0.2 -0.3 -0.4 -0.5 -0.6 -0.7 -0.8 -0.9]\n",
      " [ 0.1  0.  -0.1 -0.2 -0.3 -0.4 -0.5 -0.6 -0.7 -0.8]\n",
      " [ 0.2  0.1  0.  -0.1 -0.2 -0.3 -0.4 -0.5 -0.6 -0.7]\n",
      " [ 0.3  0.2  0.1  0.  -0.1 -0.2 -0.3 -0.4 -0.5 -0.6]\n",
      " [ 0.4  0.3  0.2  0.1  0.  -0.1 -0.2 -0.3 -0.4 -0.5]\n",
      " [ 0.5  0.4  0.3  0.2  0.1  0.  -0.1 -0.2 -0.3 -0.4]\n",
      " [ 0.6  0.5  0.4  0.3  0.2  0.1  0.  -0.1 -0.2 -0.3]\n",
      " [ 0.7  0.6  0.5  0.4  0.3  0.2  0.1  0.  -0.1 -0.2]\n",
      " [ 0.8  0.7  0.6  0.5  0.4  0.3  0.2  0.1  0.  -0.1]\n",
      " [ 0.9  0.8  0.7  0.6  0.5  0.4  0.3  0.2  0.1  0. ]]\n",
      "\n",
      "(xx.T - xx)**2\n",
      "[[ 0.    0.01  0.04  0.09  0.16  0.25  0.36  0.49  0.64  0.81]\n",
      " [ 0.01  0.    0.01  0.04  0.09  0.16  0.25  0.36  0.49  0.64]\n",
      " [ 0.04  0.01  0.    0.01  0.04  0.09  0.16  0.25  0.36  0.49]\n",
      " [ 0.09  0.04  0.01  0.    0.01  0.04  0.09  0.16  0.25  0.36]\n",
      " [ 0.16  0.09  0.04  0.01  0.    0.01  0.04  0.09  0.16  0.25]\n",
      " [ 0.25  0.16  0.09  0.04  0.01  0.    0.01  0.04  0.09  0.16]\n",
      " [ 0.36  0.25  0.16  0.09  0.04  0.01  0.    0.01  0.04  0.09]\n",
      " [ 0.49  0.36  0.25  0.16  0.09  0.04  0.01  0.    0.01  0.04]\n",
      " [ 0.64  0.49  0.36  0.25  0.16  0.09  0.04  0.01  0.    0.01]\n",
      " [ 0.81  0.64  0.49  0.36  0.25  0.16  0.09  0.04  0.01  0.  ]]\n",
      "\n",
      "(xx.T - xx)**2 + (yy.T - yy)**2\n",
      "[[ 0.    0.02  0.08  0.18  0.32  0.5   0.72  0.98  1.28  1.62]\n",
      " [ 0.02  0.    0.02  0.08  0.18  0.32  0.5   0.72  0.98  1.28]\n",
      " [ 0.08  0.02  0.    0.02  0.08  0.18  0.32  0.5   0.72  0.98]\n",
      " [ 0.18  0.08  0.02  0.    0.02  0.08  0.18  0.32  0.5   0.72]\n",
      " [ 0.32  0.18  0.08  0.02  0.    0.02  0.08  0.18  0.32  0.5 ]\n",
      " [ 0.5   0.32  0.18  0.08  0.02  0.    0.02  0.08  0.18  0.32]\n",
      " [ 0.72  0.5   0.32  0.18  0.08  0.02  0.    0.02  0.08  0.18]\n",
      " [ 0.98  0.72  0.5   0.32  0.18  0.08  0.02  0.    0.02  0.08]\n",
      " [ 1.28  0.98  0.72  0.5   0.32  0.18  0.08  0.02  0.    0.02]\n",
      " [ 1.62  1.28  0.98  0.72  0.5   0.32  0.18  0.08  0.02  0.  ]]\n",
      "\n",
      "np.exp((xx.T - xx)**2 + (yy.T - yy)**2)\n",
      "[[ 1.          1.02020134  1.08328707  1.19721736  1.37712776  1.64872127\n",
      "   2.05443321  2.66445624  3.59663973  5.05309032]\n",
      " [ 1.02020134  1.          1.02020134  1.08328707  1.19721736  1.37712776\n",
      "   1.64872127  2.05443321  2.66445624  3.59663973]\n",
      " [ 1.08328707  1.02020134  1.          1.02020134  1.08328707  1.19721736\n",
      "   1.37712776  1.64872127  2.05443321  2.66445624]\n",
      " [ 1.19721736  1.08328707  1.02020134  1.          1.02020134  1.08328707\n",
      "   1.19721736  1.37712776  1.64872127  2.05443321]\n",
      " [ 1.37712776  1.19721736  1.08328707  1.02020134  1.          1.02020134\n",
      "   1.08328707  1.19721736  1.37712776  1.64872127]\n",
      " [ 1.64872127  1.37712776  1.19721736  1.08328707  1.02020134  1.\n",
      "   1.02020134  1.08328707  1.19721736  1.37712776]\n",
      " [ 2.05443321  1.64872127  1.37712776  1.19721736  1.08328707  1.02020134\n",
      "   1.          1.02020134  1.08328707  1.19721736]\n",
      " [ 2.66445624  2.05443321  1.64872127  1.37712776  1.19721736  1.08328707\n",
      "   1.02020134  1.          1.02020134  1.08328707]\n",
      " [ 3.59663973  2.66445624  2.05443321  1.64872127  1.37712776  1.19721736\n",
      "   1.08328707  1.02020134  1.          1.02020134]\n",
      " [ 5.05309032  3.59663973  2.66445624  2.05443321  1.64872127  1.37712776\n",
      "   1.19721736  1.08328707  1.02020134  1.        ]]\n",
      "\n",
      "np.exp(-0.5 * ((xx.T - xx)**2 + (yy.T - yy)**2))\n",
      "[[ 1.          0.99004983  0.96078944  0.91393119  0.85214379  0.77880078\n",
      "   0.69767633  0.61262639  0.52729242  0.44485807]\n",
      " [ 0.99004983  1.          0.99004983  0.96078944  0.91393119  0.85214379\n",
      "   0.77880078  0.69767633  0.61262639  0.52729242]\n",
      " [ 0.96078944  0.99004983  1.          0.99004983  0.96078944  0.91393119\n",
      "   0.85214379  0.77880078  0.69767633  0.61262639]\n",
      " [ 0.91393119  0.96078944  0.99004983  1.          0.99004983  0.96078944\n",
      "   0.91393119  0.85214379  0.77880078  0.69767633]\n",
      " [ 0.85214379  0.91393119  0.96078944  0.99004983  1.          0.99004983\n",
      "   0.96078944  0.91393119  0.85214379  0.77880078]\n",
      " [ 0.77880078  0.85214379  0.91393119  0.96078944  0.99004983  1.\n",
      "   0.99004983  0.96078944  0.91393119  0.85214379]\n",
      " [ 0.69767633  0.77880078  0.85214379  0.91393119  0.96078944  0.99004983\n",
      "   1.          0.99004983  0.96078944  0.91393119]\n",
      " [ 0.61262639  0.69767633  0.77880078  0.85214379  0.91393119  0.96078944\n",
      "   0.99004983  1.          0.99004983  0.96078944]\n",
      " [ 0.52729242  0.61262639  0.69767633  0.77880078  0.85214379  0.91393119\n",
      "   0.96078944  0.99004983  1.          0.99004983]\n",
      " [ 0.44485807  0.52729242  0.61262639  0.69767633  0.77880078  0.85214379\n",
      "   0.91393119  0.96078944  0.99004983  1.        ]]\n",
      "\n",
      "np.exp(-0.5 * ((xx.T - xx)**2 + (yy.T - yy)**2) / sigma**2)\n",
      "[[  1.00000000e+00   3.67879441e-01   1.83156389e-02   1.23409804e-04\n",
      "    1.12535175e-07   1.38879439e-11   2.31952283e-16   5.24288566e-22\n",
      "    1.60381089e-28   6.63967720e-36]\n",
      " [  3.67879441e-01   1.00000000e+00   3.67879441e-01   1.83156389e-02\n",
      "    1.23409804e-04   1.12535175e-07   1.38879439e-11   2.31952283e-16\n",
      "    5.24288566e-22   1.60381089e-28]\n",
      " [  1.83156389e-02   3.67879441e-01   1.00000000e+00   3.67879441e-01\n",
      "    1.83156389e-02   1.23409804e-04   1.12535175e-07   1.38879439e-11\n",
      "    2.31952283e-16   5.24288566e-22]\n",
      " [  1.23409804e-04   1.83156389e-02   3.67879441e-01   1.00000000e+00\n",
      "    3.67879441e-01   1.83156389e-02   1.23409804e-04   1.12535175e-07\n",
      "    1.38879439e-11   2.31952283e-16]\n",
      " [  1.12535175e-07   1.23409804e-04   1.83156389e-02   3.67879441e-01\n",
      "    1.00000000e+00   3.67879441e-01   1.83156389e-02   1.23409804e-04\n",
      "    1.12535175e-07   1.38879439e-11]\n",
      " [  1.38879439e-11   1.12535175e-07   1.23409804e-04   1.83156389e-02\n",
      "    3.67879441e-01   1.00000000e+00   3.67879441e-01   1.83156389e-02\n",
      "    1.23409804e-04   1.12535175e-07]\n",
      " [  2.31952283e-16   1.38879439e-11   1.12535175e-07   1.23409804e-04\n",
      "    1.83156389e-02   3.67879441e-01   1.00000000e+00   3.67879441e-01\n",
      "    1.83156389e-02   1.23409804e-04]\n",
      " [  5.24288566e-22   2.31952283e-16   1.38879439e-11   1.12535175e-07\n",
      "    1.23409804e-04   1.83156389e-02   3.67879441e-01   1.00000000e+00\n",
      "    3.67879441e-01   1.83156389e-02]\n",
      " [  1.60381089e-28   5.24288566e-22   2.31952283e-16   1.38879439e-11\n",
      "    1.12535175e-07   1.23409804e-04   1.83156389e-02   3.67879441e-01\n",
      "    1.00000000e+00   3.67879441e-01]\n",
      " [  6.63967720e-36   1.60381089e-28   5.24288566e-22   2.31952283e-16\n",
      "    1.38879439e-11   1.12535175e-07   1.23409804e-04   1.83156389e-02\n",
      "    3.67879441e-01   1.00000000e+00]]\n"
     ]
    }
   ],
   "source": [
    "n = 10 # thus, N = n^2. As I'm sampling from a plane, D = 2\n",
    "sigma = 0.1 \n",
    "grid_points = np.arange(n) / float(n)\n",
    "xx, yy = np.meshgrid(grid_points, grid_points)\n",
    "\n",
    "print \"\\nxx.T - xx\\n\", (xx.T - xx)\n",
    "print \"\\n(xx.T - xx)**2\\n\",(xx.T - xx)**2 \n",
    "print \"\\n(xx.T - xx)**2 + (yy.T - yy)**2\\n\", (xx.T - xx)**2 + (yy.T - yy)**2 \n",
    "print \"\\nnp.exp((xx.T - xx)**2 + (yy.T - yy)**2)\\n\", np.exp((xx.T - xx)**2 + (yy.T - yy)**2)\n",
    "print \"\\nnp.exp(-0.5 * ((xx.T - xx)**2 + (yy.T - yy)**2))\\n\", np.exp(-0.5 * ((xx.T - xx)**2 + (yy.T - yy)**2))\n",
    "print \"\\nnp.exp(-0.5 * ((xx.T - xx)**2 + (yy.T - yy)**2) / sigma**2)\\n\", np.exp(-0.5 * ((xx.T - xx)**2 + (yy.T - yy)**2) / sigma**2)\n",
    "L = np.exp(-0.5 * ((xx.T - xx)**2 + (yy.T - yy)**2) / sigma**2)"
   ]
  },
  {
   "cell_type": "markdown",
   "metadata": {},
   "source": [
    "## Computing probabilities using the ensemble kernel $L$\n",
    "\n",
    "First, computing individual probabilities."
   ]
  },
  {
   "cell_type": "code",
   "execution_count": 4,
   "metadata": {
    "collapsed": false
   },
   "outputs": [
    {
     "name": "stdout",
     "output_type": "stream",
     "text": [
      "Pr(Y = 0) = 1.0\n",
      "Pr(Y = 1) = 1.0\n"
     ]
    }
   ],
   "source": [
    "# Computing some probabilities using L-ensembles\n",
    "\n",
    "# computing the probability of a singleton {i}, i.e., a set containing a single element\n",
    "# np.linalg.det(L[0,0])\n",
    "print \"Pr(Y = 0) =\", L[0,0]\n",
    "print \"Pr(Y = 1) =\", L[1,1]"
   ]
  },
  {
   "cell_type": "markdown",
   "metadata": {},
   "source": [
    "Probabilities of more elements."
   ]
  },
  {
   "cell_type": "code",
   "execution_count": 5,
   "metadata": {
    "collapsed": false
   },
   "outputs": [
    {
     "name": "stdout",
     "output_type": "stream",
     "text": [
      "[[ 1.          0.36787944]\n",
      " [ 0.36787944  1.        ]]\n",
      "0.864664716763\n",
      "by hand: 0.864664717625\n",
      "\n",
      "[[ 1.          0.36787944  0.01831564]\n",
      " [ 0.36787944  1.          0.36787944]\n",
      " [ 0.01831564  0.36787944  1.        ]]\n",
      "0.733951475252\n",
      "\n",
      "[[  1.00000000e+00   3.67879441e-01   1.83156389e-02   1.23409804e-04\n",
      "    1.12535175e-07   1.38879439e-11   2.31952283e-16   5.24288566e-22\n",
      "    1.60381089e-28   6.63967720e-36]\n",
      " [  3.67879441e-01   1.00000000e+00   3.67879441e-01   1.83156389e-02\n",
      "    1.23409804e-04   1.12535175e-07   1.38879439e-11   2.31952283e-16\n",
      "    5.24288566e-22   1.60381089e-28]\n",
      " [  1.83156389e-02   3.67879441e-01   1.00000000e+00   3.67879441e-01\n",
      "    1.83156389e-02   1.23409804e-04   1.12535175e-07   1.38879439e-11\n",
      "    2.31952283e-16   5.24288566e-22]\n",
      " [  1.23409804e-04   1.83156389e-02   3.67879441e-01   1.00000000e+00\n",
      "    3.67879441e-01   1.83156389e-02   1.23409804e-04   1.12535175e-07\n",
      "    1.38879439e-11   2.31952283e-16]\n",
      " [  1.12535175e-07   1.23409804e-04   1.83156389e-02   3.67879441e-01\n",
      "    1.00000000e+00   3.67879441e-01   1.83156389e-02   1.23409804e-04\n",
      "    1.12535175e-07   1.38879439e-11]\n",
      " [  1.38879439e-11   1.12535175e-07   1.23409804e-04   1.83156389e-02\n",
      "    3.67879441e-01   1.00000000e+00   3.67879441e-01   1.83156389e-02\n",
      "    1.23409804e-04   1.12535175e-07]\n",
      " [  2.31952283e-16   1.38879439e-11   1.12535175e-07   1.23409804e-04\n",
      "    1.83156389e-02   3.67879441e-01   1.00000000e+00   3.67879441e-01\n",
      "    1.83156389e-02   1.23409804e-04]\n",
      " [  5.24288566e-22   2.31952283e-16   1.38879439e-11   1.12535175e-07\n",
      "    1.23409804e-04   1.83156389e-02   3.67879441e-01   1.00000000e+00\n",
      "    3.67879441e-01   1.83156389e-02]\n",
      " [  1.60381089e-28   5.24288566e-22   2.31952283e-16   1.38879439e-11\n",
      "    1.12535175e-07   1.23409804e-04   1.83156389e-02   3.67879441e-01\n",
      "    1.00000000e+00   3.67879441e-01]\n",
      " [  6.63967720e-36   1.60381089e-28   5.24288566e-22   2.31952283e-16\n",
      "    1.38879439e-11   1.12535175e-07   1.23409804e-04   1.83156389e-02\n",
      "    3.67879441e-01   1.00000000e+00]]\n",
      "0.228494090512\n"
     ]
    }
   ],
   "source": [
    "print L[0:2, 0:2]\n",
    "print np.linalg.det(L[0:2, 0:2])\n",
    "print \"by hand:\", 1*1 - 0.36787944**2\n",
    "\n",
    "print \"\\n\", L[0:3, 0:3]\n",
    "print np.linalg.det(L[0:3, 0:3])\n",
    "\n",
    "print \"\\n\", L\n",
    "print np.linalg.det(L)\n",
    "\n",
    "#print \"\\n\", L[3, 3]\n",
    "#print np.linalg.det(L[0:3, 0:3])\n"
   ]
  },
  {
   "cell_type": "code",
   "execution_count": 6,
   "metadata": {
    "collapsed": false
   },
   "outputs": [
    {
     "name": "stdout",
     "output_type": "stream",
     "text": [
      "[[1 2 3 1]\n",
      " [4 5 6 2]\n",
      " [7 8 9 3]\n",
      " [0 0 0 4]]\n"
     ]
    },
    {
     "data": {
      "text/plain": [
       "array([[1, 3, 1],\n",
       "       [7, 9, 3],\n",
       "       [0, 0, 4]])"
      ]
     },
     "execution_count": 6,
     "metadata": {},
     "output_type": "execute_result"
    }
   ],
   "source": [
    "# taking all but one column trick\n",
    "A = np.array([[1,2,3,1],[4,5,6,2],[7,8,9,3],[0,0,0,4]])\n",
    "print A\n",
    "A[ [[0],[2],[3]] , [0,2,3] ]"
   ]
  },
  {
   "cell_type": "code",
   "execution_count": 7,
   "metadata": {
    "collapsed": false
   },
   "outputs": [
    {
     "name": "stdout",
     "output_type": "stream",
     "text": [
      "i = {0,1,2}: 0.733951475252\n",
      "i = {0,1,3}: 0.864330901963\n",
      "i = {0,1,4}: 0.864664701544\n",
      "i = {0,1,9}: 0.864664716763\n",
      "\n",
      "As expected, the set {0,1,2} has lower probability than other sets with more distant numbers, such as {0,1,3}, {0,1,9}\n"
     ]
    }
   ],
   "source": [
    "print \"i = {0,1,2}:\", \n",
    "#print L[ [[0],[1],[2]] , [0,1,2] ]\n",
    "print np.linalg.det(L[ [[0],[1],[2]] , [0,1,2] ])\n",
    "\n",
    "print \"i = {0,1,3}:\", \n",
    "#print L[ [[0],[1],[3]] , [0,1,3] ]\n",
    "print np.linalg.det(L[ [[0],[1],[3]] , [0,1,3] ])\n",
    "\n",
    "print \"i = {0,1,4}:\", \n",
    "#print L[ [[0],[1],[4]] , [0,1,4] ]\n",
    "print np.linalg.det(L[ [[0],[1],[4]] , [0,1,4] ])\n",
    "\n",
    "print \"i = {0,1,9}:\", \n",
    "#print L[ [[0],[1],[9]] , [0,1,9] ]\n",
    "print np.linalg.det(L[ [[0],[1],[9]] , [0,1,9] ])\n",
    "\n",
    "print \"\\nAs expected, the set {0,1,2} has lower probability than other sets with more distant numbers,\",\n",
    "print \"such as {0,1,3}, {0,1,9}\""
   ]
  },
  {
   "cell_type": "code",
   "execution_count": 8,
   "metadata": {
    "collapsed": false
   },
   "outputs": [
    {
     "name": "stdout",
     "output_type": "stream",
     "text": [
      "[[0], [3]]\n",
      "[[1 1]\n",
      " [0 4]]\n"
     ]
    }
   ],
   "source": [
    "# coding a way to use only the elements that i'm interested\n",
    "A = np.array([[1,2,3,1],[4,5,6,2],[7,8,9,3],[0,0,0,4]])\n",
    "selected_items = [0,3]\n",
    "#br_idxs = map(lambda x: list(x), selected_items) # broadcasted items\n",
    "br_idxs = [[a] for a in selected_items]\n",
    "\n",
    "print br_idxs\n",
    "print A[br_idxs, selected_items]"
   ]
  },
  {
   "cell_type": "markdown",
   "metadata": {},
   "source": [
    "## Computing kernel $K$ from ensemble $L$\n",
    "\n",
    "There are two ways to compute the marginal kernel $K$. Using the following operation:\n",
    "\n",
    "$K = L (L+I)^{-1}$.\n",
    "\n",
    "Or using the eigendecomposition of $L$:\n",
    "\n",
    "$K = \\sum_{n=1}^N{( \\frac{\\lambda_n}{\\lambda_n + 1} \\mathbf{v_n} \\mathbf{v_n}^T )}$."
   ]
  },
  {
   "cell_type": "code",
   "execution_count": 9,
   "metadata": {
    "collapsed": false
   },
   "outputs": [
    {
     "name": "stdout",
     "output_type": "stream",
     "text": [
      "K = [[  2.13567076e+00   1.11037853e+00   1.90327602e-01   1.38461648e-02\n",
      "    4.26600098e-04   4.60349923e-06   1.93625059e-08   2.82847915e-11\n",
      "    1.61004795e-14   3.18303396e-18]\n",
      " [  1.11037853e+00   2.27100604e+00   1.11711648e+00   1.90373002e-01\n",
      "    1.38462062e-02   4.26600103e-04   4.60349923e-06   1.93625059e-08\n",
      "    2.82847915e-11   1.61004795e-14]\n",
      " [  1.90327602e-01   1.11711648e+00   2.27134151e+00   1.11711874e+00\n",
      "    1.90373004e-01   1.38462062e-02   4.26600103e-04   4.60349923e-06\n",
      "    1.93625059e-08   2.82847915e-11]\n",
      " [  1.38461648e-02   1.90373002e-01   1.11711874e+00   2.27134152e+00\n",
      "    1.11711874e+00   1.90373004e-01   1.38462062e-02   4.26600103e-04\n",
      "    4.60349923e-06   1.93625059e-08]\n",
      " [  4.26600098e-04   1.38462062e-02   1.90373004e-01   1.11711874e+00\n",
      "    2.27134152e+00   1.11711874e+00   1.90373004e-01   1.38462062e-02\n",
      "    4.26600103e-04   4.60349923e-06]\n",
      " [  4.60349923e-06   4.26600103e-04   1.38462062e-02   1.90373004e-01\n",
      "    1.11711874e+00   2.27134152e+00   1.11711874e+00   1.90373004e-01\n",
      "    1.38462062e-02   4.26600098e-04]\n",
      " [  1.93625059e-08   4.60349923e-06   4.26600103e-04   1.38462062e-02\n",
      "    1.90373004e-01   1.11711874e+00   2.27134152e+00   1.11711874e+00\n",
      "    1.90373002e-01   1.38461648e-02]\n",
      " [  2.82847915e-11   1.93625059e-08   4.60349923e-06   4.26600103e-04\n",
      "    1.38462062e-02   1.90373004e-01   1.11711874e+00   2.27134151e+00\n",
      "    1.11711648e+00   1.90327602e-01]\n",
      " [  1.61004795e-14   2.82847915e-11   1.93625059e-08   4.60349923e-06\n",
      "    4.26600103e-04   1.38462062e-02   1.90373002e-01   1.11711648e+00\n",
      "    2.27100604e+00   1.11037853e+00]\n",
      " [  3.18303396e-18   1.61004795e-14   2.82847915e-11   1.93625059e-08\n",
      "    4.60349923e-06   4.26600098e-04   1.38461648e-02   1.90327602e-01\n",
      "    1.11037853e+00   2.13567076e+00]]\n"
     ]
    }
   ],
   "source": [
    "import scipy.linalg\n",
    "\n",
    "# Using the first form:\n",
    "K = L.dot( L + np.eye(L.shape[0], L.shape[1]) )\n",
    "print \"K =\", K\n",
    "\n",
    "\n",
    "# or using eigendecomposition:\n",
    "#eV, eD = scipy.linalg.eig(L)\n",
    "#\n",
    "# (eV / (eV + 1.0))\n",
    "#Lrecomp = np.zeros_like(eD)\n",
    "#for i in xrange(eD.shape[0]):\n",
    "#    print (eV[i]/(eV[i] + 1))\n",
    "#    print (eD[i].dot(eD[i].T))\n",
    "#    Lrecomp[i,:] = (eV[i]/(eV[i] + 1)) * eD[i].dot(eD[i].T)\n",
    "\n"
   ]
  },
  {
   "cell_type": "code",
   "execution_count": 10,
   "metadata": {
    "collapsed": false
   },
   "outputs": [
    {
     "name": "stdout",
     "output_type": "stream",
     "text": [
      "i = {0,1,2}: 5.94055091936\n",
      "i = {0,1,3}: 8.14387043627\n",
      "i = {0,1,4}: 8.21545603373\n",
      "i = {0,1,9}: 7.72510711274\n"
     ]
    }
   ],
   "source": [
    "# computing the same previous probabilities, but using the marginal kernel K\n",
    "def rev_idxs(items):\n",
    "    idxs_list = [[a] for a in items]\n",
    "    return idxs_list, items\n",
    "\n",
    "print \"i = {0,1,2}:\",\n",
    "print np.linalg.det(K[ rev_idxs([0,1,2]) ])\n",
    "\n",
    "print \"i = {0,1,3}:\",\n",
    "print np.linalg.det(K[ rev_idxs([0,1,3]) ])\n",
    "\n",
    "print \"i = {0,1,4}:\",\n",
    "print np.linalg.det(K[ rev_idxs([0,1,4]) ])\n",
    "\n",
    "print \"i = {0,1,9}:\",\n",
    "print np.linalg.det(K[ rev_idxs([0,1,9]) ])"
   ]
  },
  {
   "cell_type": "markdown",
   "metadata": {},
   "source": [
    "As ensemble $L$, notice that $K$ is not necessarily normalized, as it is also a state of proportionality. Also, $K$ computes a different probability of $L$. $K$ comprises the marginal probabilities of inclusion for subsets $A$, while $L$ specifies atomic probabilities for every possible instantiation of $\\mathbf{Y}$."
   ]
  },
  {
   "cell_type": "markdown",
   "metadata": {},
   "source": [
    "## Dummy sampling algorithm\n",
    "\n",
    "A dummy sampling approach consists of sampling an element a subset/element $A = {i}$ with probability $P(A = \\{i\\})$. After sampling the first element, we recompute the probabilities, but conditioning on the value that was previously sampled. Kulesza et al. presents a better approach based on the eigendecomposition, that we shall see further ahead.\n",
    "\n",
    "In this sampling problem, we shall consider the same example of sampling a set of points $\\{1,2,\\dots,n\\}$ from a 2D grid. Reintroducing the data:"
   ]
  },
  {
   "cell_type": "code",
   "execution_count": 11,
   "metadata": {
    "collapsed": false
   },
   "outputs": [],
   "source": [
    "n = 10 # thus, N = n^2. As I'm sampling from a plane, D = 2\n",
    "sigma = 0.1 \n",
    "grid_points = np.arange(n) / float(n)"
   ]
  },
  {
   "cell_type": "markdown",
   "metadata": {},
   "source": [
    "Defining functions to compute probabilities:"
   ]
  },
  {
   "cell_type": "code",
   "execution_count": 99,
   "metadata": {
    "collapsed": false
   },
   "outputs": [
    {
     "name": "stdout",
     "output_type": "stream",
     "text": [
      "sanity check\n",
      "i = {0,1,2}: 0.733951475252\n",
      "i = {1,2,3}: 0.733951475252\n",
      "\n",
      "i = {0,1,2}: 0.733951475252\n",
      "B = {3} | A = {0,1,2}: 0.00885028604937\n",
      "B = {4} | A = {0,1,2}: 0.0104482806458\n",
      "B = {9} | A = {0,1,2}: 0.0104523884753\n",
      "\n",
      "B = {2} | A = {0,1}: 0.00458920481495\n",
      "B = {3} | A = {0,1}: 0.0054044329506\n",
      "B = {9} | A = {0,1}: 0.00540652020642\n"
     ]
    }
   ],
   "source": [
    "class DPP:\n",
    "    def __init__(self, grid_points):\n",
    "        self.n = len(grid_points)\n",
    "        self.elements = range(0, self.n)\n",
    "        \n",
    "        # create L-ensemble\n",
    "        self.xx, self.yy = np.meshgrid(grid_points, grid_points)\n",
    "        self.L = np.exp(-0.5 * ((xx.T - xx)**2 + (yy.T - yy)**2) / sigma**2)\n",
    "\n",
    "    def _idxs(self, items):\n",
    "        idxs_list = [[a] for a in items]\n",
    "        return idxs_list, items\n",
    "\n",
    "    def _rev_idxs(self, items):\n",
    "        # selects the opposite of the items specified\n",
    "        pass\n",
    "    \n",
    "    def prob(self, items):\n",
    "        return np.linalg.det( L[ self._idxs(items) ] )\n",
    "    \n",
    "    def cond_prob(self, new_items, sampled = []):\n",
    "        \"\"\"TODO implement the conditioning function\"\"\"\n",
    "        if not sampled:\n",
    "            return self.prob(new_items)\n",
    "        \n",
    "        items = new_items + sampled\n",
    "        conj = np.linalg.det( L[ self._idxs(items) ] )\n",
    "        \n",
    "        # creating Y - A, i.e. Y_omega - sampled\n",
    "        Y_omega = range(0, self.n)\n",
    "        Y_inv = [y for y in Y_omega if y not in sampled]\n",
    "        \n",
    "        # invA or inv_sampled\n",
    "        I_invA = np.zeros_like(L)\n",
    "        I_invA[Y_inv, Y_inv] = 1\n",
    "        \n",
    "        # normalization \n",
    "        norm = np.linalg.det( L + I_invA )\n",
    "        return conj / float(norm)\n",
    "    \n",
    "    def dummy_sampling(self, num_samples):      \n",
    "        Y = self.elements\n",
    "        sampled = []\n",
    "        for it in xrange(num_samples):\n",
    "            print \"Iteration: %d\" % it\n",
    "            \n",
    "            prbs  = [self.cond_prob([y], sampled) for y in Y]\n",
    "            prbs /= np.sum(prbs)\n",
    "            \n",
    "            elem_sampled = np.random.choice(Y, 1, p=prbs)\n",
    "            sampled.append(elem_sampled)\n",
    "            \n",
    "            # creating Y - A, i.e. Y_omega - sampled\n",
    "            Y.remove(elem_sampled)\n",
    "            \n",
    "            print \"Y\", Y\n",
    "            print \"p\", prbs\n",
    "            print \"s\", sampled\n",
    "            print \n",
    "            \n",
    "        return sampled\n",
    "            \n",
    "dpp_grid = DPP(grid_points)\n",
    "\n",
    "print \"sanity check\"\n",
    "print \"i = {0,1,2}:\", dpp_grid.prob([0,1,2])\n",
    "print \"i = {1,2,3}:\", dpp_grid.prob([1,2,3])\n",
    "print \n",
    "print \"i = {0,1,2}:\", dpp_grid.prob([0,1,2])\n",
    "print \"B = {3} | A = {0,1,2}:\", dpp_grid.cond_prob([3], [0,1,2])\n",
    "print \"B = {4} | A = {0,1,2}:\", dpp_grid.cond_prob([4], [0,1,2])\n",
    "print \"B = {9} | A = {0,1,2}:\", dpp_grid.cond_prob([9], [0,1,2])\n",
    "print \n",
    "print \"B = {2} | A = {0,1}:\", dpp_grid.cond_prob([2], [0,1])\n",
    "print \"B = {3} | A = {0,1}:\", dpp_grid.cond_prob([3], [0,1])\n",
    "print \"B = {9} | A = {0,1}:\", dpp_grid.cond_prob([9], [0,1])"
   ]
  },
  {
   "cell_type": "code",
   "execution_count": 101,
   "metadata": {
    "collapsed": false
   },
   "outputs": [
    {
     "name": "stdout",
     "output_type": "stream",
     "text": [
      "Iteration: 0\n",
      "Y [1, 3, 4, 5, 6, 9]\n",
      "p [ 0.14285714  0.14285714  0.14285714  0.14285714  0.14285714  0.14285714\n",
      "  0.14285714]\n",
      "s [array([2])]\n",
      "\n",
      "Iteration: 1\n",
      "Y [1, 3, 4, 5, 9]\n",
      "p [ 0.15092785  0.15092785  0.17449216  0.17455071  0.17455072  0.17455072]\n",
      "s [array([2]), array([6])]\n",
      "\n",
      "Iteration: 2\n",
      "Y [1, 3, 4, 9]\n",
      "p [ 0.18824382  0.18824382  0.21756124  0.18824382  0.2177073 ]\n",
      "s [array([2]), array([6]), array([5])]\n",
      "\n",
      "Iteration: 3\n",
      "Y [3, 4, 9]\n",
      "p [ 0.24169932  0.24159194  0.2371792   0.27952953]\n",
      "s [array([2]), array([6]), array([5]), array([1])]\n",
      "\n",
      "Iteration: 4\n",
      "Y [4, 9]\n",
      "p [ 0.31460112  0.31460112  0.37079776]\n",
      "s [array([2]), array([6]), array([5]), array([1]), array([3])]\n",
      "\n"
     ]
    },
    {
     "data": {
      "text/plain": [
       "[array([2]), array([6]), array([5]), array([1]), array([3])]"
      ]
     },
     "execution_count": 101,
     "metadata": {},
     "output_type": "execute_result"
    }
   ],
   "source": [
    "dpp_grid.dummy_sampling(5)"
   ]
  }
 ],
 "metadata": {
  "kernelspec": {
   "display_name": "Python 2",
   "language": "python",
   "name": "python2"
  },
  "language_info": {
   "codemirror_mode": {
    "name": "ipython",
    "version": 2
   },
   "file_extension": ".py",
   "mimetype": "text/x-python",
   "name": "python",
   "nbconvert_exporter": "python",
   "pygments_lexer": "ipython2",
   "version": "2.7.6"
  }
 },
 "nbformat": 4,
 "nbformat_minor": 0
}
