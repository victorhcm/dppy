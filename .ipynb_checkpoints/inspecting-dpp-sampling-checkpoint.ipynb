{
 "cells": [
  {
   "cell_type": "markdown",
   "metadata": {},
   "source": [
    "# Determinantal Point Process in Python\n",
    "\n",
    "First, let's start the environment."
   ]
  },
  {
   "cell_type": "code",
   "execution_count": 1,
   "metadata": {
    "collapsed": false
   },
   "outputs": [],
   "source": [
    "import numpy as np\n",
    "import matplotlib.pyplot as plt\n",
    "\n",
    "# This is a bit of magic to make matplotlib figures appear inline in the notebook\n",
    "# rather than in a new window.\n",
    "%matplotlib inline\n",
    "plt.rcParams['figure.figsize'] = (10.0, 8.0) # set default size of plots\n",
    "plt.rcParams['image.interpolation'] = 'nearest'\n",
    "plt.rcParams['image.cmap'] = 'gray'\n",
    "\n",
    "# Some more magic so that the notebook will reload external python modules;\n",
    "# see http://stackoverflow.com/questions/1907993/autoreload-of-modules-in-ipython\n",
    "%load_ext autoreload\n",
    "%autoreload 2"
   ]
  },
  {
   "cell_type": "markdown",
   "metadata": {},
   "source": [
    "# Questions\n",
    "\n",
    "1. How do I define a $L$ kernel? Can it be defined through $B^T B$?\n",
    "2. The kernel $K$ can be seen as a cumulative function of $L$, since it computes $P_K(A \\subseteq \\mathbf{Y})$ instead of $P_L(\\mathbf{Y} = A)$?"
   ]
  },
  {
   "cell_type": "code",
   "execution_count": 2,
   "metadata": {
    "collapsed": false
   },
   "outputs": [
    {
     "name": "stdout",
     "output_type": "stream",
     "text": [
      "[[0]\n",
      " [1]\n",
      " [2]\n",
      " [3]\n",
      " [4]\n",
      " [5]\n",
      " [6]\n",
      " [7]\n",
      " [8]\n",
      " [9]]\n",
      "[0 1 2 3 4 5 6 7 8 9]\n",
      "[[ 0 -1 -2 -3 -4 -5 -6 -7 -8 -9]\n",
      " [ 1  0 -1 -2 -3 -4 -5 -6 -7 -8]\n",
      " [ 2  1  0 -1 -2 -3 -4 -5 -6 -7]\n",
      " [ 3  2  1  0 -1 -2 -3 -4 -5 -6]\n",
      " [ 4  3  2  1  0 -1 -2 -3 -4 -5]\n",
      " [ 5  4  3  2  1  0 -1 -2 -3 -4]\n",
      " [ 6  5  4  3  2  1  0 -1 -2 -3]\n",
      " [ 7  6  5  4  3  2  1  0 -1 -2]\n",
      " [ 8  7  6  5  4  3  2  1  0 -1]\n",
      " [ 9  8  7  6  5  4  3  2  1  0]]\n",
      "\n",
      "[[0 0 0 0 0 0 0 0 0 0]\n",
      " [1 1 1 1 1 1 1 1 1 1]\n",
      " [2 2 2 2 2 2 2 2 2 2]\n",
      " [3 3 3 3 3 3 3 3 3 3]\n",
      " [4 4 4 4 4 4 4 4 4 4]\n",
      " [5 5 5 5 5 5 5 5 5 5]\n",
      " [6 6 6 6 6 6 6 6 6 6]\n",
      " [7 7 7 7 7 7 7 7 7 7]\n",
      " [8 8 8 8 8 8 8 8 8 8]\n",
      " [9 9 9 9 9 9 9 9 9 9]]\n",
      "[[0 1 2 3 4 5 6 7 8 9]\n",
      " [0 1 2 3 4 5 6 7 8 9]\n",
      " [0 1 2 3 4 5 6 7 8 9]\n",
      " [0 1 2 3 4 5 6 7 8 9]\n",
      " [0 1 2 3 4 5 6 7 8 9]\n",
      " [0 1 2 3 4 5 6 7 8 9]\n",
      " [0 1 2 3 4 5 6 7 8 9]\n",
      " [0 1 2 3 4 5 6 7 8 9]\n",
      " [0 1 2 3 4 5 6 7 8 9]\n",
      " [0 1 2 3 4 5 6 7 8 9]]\n",
      "[[ 0 -1 -2 -3 -4 -5 -6 -7 -8 -9]\n",
      " [ 1  0 -1 -2 -3 -4 -5 -6 -7 -8]\n",
      " [ 2  1  0 -1 -2 -3 -4 -5 -6 -7]\n",
      " [ 3  2  1  0 -1 -2 -3 -4 -5 -6]\n",
      " [ 4  3  2  1  0 -1 -2 -3 -4 -5]\n",
      " [ 5  4  3  2  1  0 -1 -2 -3 -4]\n",
      " [ 6  5  4  3  2  1  0 -1 -2 -3]\n",
      " [ 7  6  5  4  3  2  1  0 -1 -2]\n",
      " [ 8  7  6  5  4  3  2  1  0 -1]\n",
      " [ 9  8  7  6  5  4  3  2  1  0]]\n"
     ]
    }
   ],
   "source": [
    "# Understanding broadcasting, used by Kulesza in the MATLAB code (bsxfun)\n",
    "A = np.arange(0,10) \n",
    "print A[np.newaxis].T\n",
    "print A\n",
    "print A[np.newaxis].T - A\n",
    "# You're taking the first elem, say [0], you fill it until it reaches the same rank of A, then you subtract [0] by\n",
    "# every element in A\n",
    "\n",
    "# it's like I stacked A[np.newaxis].T until it had 9 dims\n",
    "print \"\"\n",
    "print np.tile(A[np.newaxis].T, (1,10))\n",
    "print np.tile(A, (10,1)) \n",
    "print np.tile(A[np.newaxis].T, (1,10)) - np.tile(A, (10,1))"
   ]
  },
  {
   "cell_type": "code",
   "execution_count": 3,
   "metadata": {
    "collapsed": false,
    "scrolled": false
   },
   "outputs": [
    {
     "name": "stdout",
     "output_type": "stream",
     "text": [
      "\n",
      "xx.T - xx\n",
      "[[ 0.  -0.1 -0.2 -0.3 -0.4 -0.5 -0.6 -0.7 -0.8 -0.9]\n",
      " [ 0.1  0.  -0.1 -0.2 -0.3 -0.4 -0.5 -0.6 -0.7 -0.8]\n",
      " [ 0.2  0.1  0.  -0.1 -0.2 -0.3 -0.4 -0.5 -0.6 -0.7]\n",
      " [ 0.3  0.2  0.1  0.  -0.1 -0.2 -0.3 -0.4 -0.5 -0.6]\n",
      " [ 0.4  0.3  0.2  0.1  0.  -0.1 -0.2 -0.3 -0.4 -0.5]\n",
      " [ 0.5  0.4  0.3  0.2  0.1  0.  -0.1 -0.2 -0.3 -0.4]\n",
      " [ 0.6  0.5  0.4  0.3  0.2  0.1  0.  -0.1 -0.2 -0.3]\n",
      " [ 0.7  0.6  0.5  0.4  0.3  0.2  0.1  0.  -0.1 -0.2]\n",
      " [ 0.8  0.7  0.6  0.5  0.4  0.3  0.2  0.1  0.  -0.1]\n",
      " [ 0.9  0.8  0.7  0.6  0.5  0.4  0.3  0.2  0.1  0. ]]\n",
      "\n",
      "(xx.T - xx)**2\n",
      "[[ 0.    0.01  0.04  0.09  0.16  0.25  0.36  0.49  0.64  0.81]\n",
      " [ 0.01  0.    0.01  0.04  0.09  0.16  0.25  0.36  0.49  0.64]\n",
      " [ 0.04  0.01  0.    0.01  0.04  0.09  0.16  0.25  0.36  0.49]\n",
      " [ 0.09  0.04  0.01  0.    0.01  0.04  0.09  0.16  0.25  0.36]\n",
      " [ 0.16  0.09  0.04  0.01  0.    0.01  0.04  0.09  0.16  0.25]\n",
      " [ 0.25  0.16  0.09  0.04  0.01  0.    0.01  0.04  0.09  0.16]\n",
      " [ 0.36  0.25  0.16  0.09  0.04  0.01  0.    0.01  0.04  0.09]\n",
      " [ 0.49  0.36  0.25  0.16  0.09  0.04  0.01  0.    0.01  0.04]\n",
      " [ 0.64  0.49  0.36  0.25  0.16  0.09  0.04  0.01  0.    0.01]\n",
      " [ 0.81  0.64  0.49  0.36  0.25  0.16  0.09  0.04  0.01  0.  ]]\n",
      "\n",
      "(xx.T - xx)**2 + (yy.T - yy)**2\n",
      "[[ 0.    0.02  0.08  0.18  0.32  0.5   0.72  0.98  1.28  1.62]\n",
      " [ 0.02  0.    0.02  0.08  0.18  0.32  0.5   0.72  0.98  1.28]\n",
      " [ 0.08  0.02  0.    0.02  0.08  0.18  0.32  0.5   0.72  0.98]\n",
      " [ 0.18  0.08  0.02  0.    0.02  0.08  0.18  0.32  0.5   0.72]\n",
      " [ 0.32  0.18  0.08  0.02  0.    0.02  0.08  0.18  0.32  0.5 ]\n",
      " [ 0.5   0.32  0.18  0.08  0.02  0.    0.02  0.08  0.18  0.32]\n",
      " [ 0.72  0.5   0.32  0.18  0.08  0.02  0.    0.02  0.08  0.18]\n",
      " [ 0.98  0.72  0.5   0.32  0.18  0.08  0.02  0.    0.02  0.08]\n",
      " [ 1.28  0.98  0.72  0.5   0.32  0.18  0.08  0.02  0.    0.02]\n",
      " [ 1.62  1.28  0.98  0.72  0.5   0.32  0.18  0.08  0.02  0.  ]]\n",
      "\n",
      "np.exp((xx.T - xx)**2 + (yy.T - yy)**2)\n",
      "[[ 1.          1.02020134  1.08328707  1.19721736  1.37712776  1.64872127\n",
      "   2.05443321  2.66445624  3.59663973  5.05309032]\n",
      " [ 1.02020134  1.          1.02020134  1.08328707  1.19721736  1.37712776\n",
      "   1.64872127  2.05443321  2.66445624  3.59663973]\n",
      " [ 1.08328707  1.02020134  1.          1.02020134  1.08328707  1.19721736\n",
      "   1.37712776  1.64872127  2.05443321  2.66445624]\n",
      " [ 1.19721736  1.08328707  1.02020134  1.          1.02020134  1.08328707\n",
      "   1.19721736  1.37712776  1.64872127  2.05443321]\n",
      " [ 1.37712776  1.19721736  1.08328707  1.02020134  1.          1.02020134\n",
      "   1.08328707  1.19721736  1.37712776  1.64872127]\n",
      " [ 1.64872127  1.37712776  1.19721736  1.08328707  1.02020134  1.\n",
      "   1.02020134  1.08328707  1.19721736  1.37712776]\n",
      " [ 2.05443321  1.64872127  1.37712776  1.19721736  1.08328707  1.02020134\n",
      "   1.          1.02020134  1.08328707  1.19721736]\n",
      " [ 2.66445624  2.05443321  1.64872127  1.37712776  1.19721736  1.08328707\n",
      "   1.02020134  1.          1.02020134  1.08328707]\n",
      " [ 3.59663973  2.66445624  2.05443321  1.64872127  1.37712776  1.19721736\n",
      "   1.08328707  1.02020134  1.          1.02020134]\n",
      " [ 5.05309032  3.59663973  2.66445624  2.05443321  1.64872127  1.37712776\n",
      "   1.19721736  1.08328707  1.02020134  1.        ]]\n",
      "\n",
      "np.exp(-0.5 * ((xx.T - xx)**2 + (yy.T - yy)**2))\n",
      "[[ 1.          0.99004983  0.96078944  0.91393119  0.85214379  0.77880078\n",
      "   0.69767633  0.61262639  0.52729242  0.44485807]\n",
      " [ 0.99004983  1.          0.99004983  0.96078944  0.91393119  0.85214379\n",
      "   0.77880078  0.69767633  0.61262639  0.52729242]\n",
      " [ 0.96078944  0.99004983  1.          0.99004983  0.96078944  0.91393119\n",
      "   0.85214379  0.77880078  0.69767633  0.61262639]\n",
      " [ 0.91393119  0.96078944  0.99004983  1.          0.99004983  0.96078944\n",
      "   0.91393119  0.85214379  0.77880078  0.69767633]\n",
      " [ 0.85214379  0.91393119  0.96078944  0.99004983  1.          0.99004983\n",
      "   0.96078944  0.91393119  0.85214379  0.77880078]\n",
      " [ 0.77880078  0.85214379  0.91393119  0.96078944  0.99004983  1.\n",
      "   0.99004983  0.96078944  0.91393119  0.85214379]\n",
      " [ 0.69767633  0.77880078  0.85214379  0.91393119  0.96078944  0.99004983\n",
      "   1.          0.99004983  0.96078944  0.91393119]\n",
      " [ 0.61262639  0.69767633  0.77880078  0.85214379  0.91393119  0.96078944\n",
      "   0.99004983  1.          0.99004983  0.96078944]\n",
      " [ 0.52729242  0.61262639  0.69767633  0.77880078  0.85214379  0.91393119\n",
      "   0.96078944  0.99004983  1.          0.99004983]\n",
      " [ 0.44485807  0.52729242  0.61262639  0.69767633  0.77880078  0.85214379\n",
      "   0.91393119  0.96078944  0.99004983  1.        ]]\n",
      "\n",
      "np.exp(-0.5 * ((xx.T - xx)**2 + (yy.T - yy)**2) / sigma**2)\n",
      "[[  1.00000000e+00   3.67879441e-01   1.83156389e-02   1.23409804e-04\n",
      "    1.12535175e-07   1.38879439e-11   2.31952283e-16   5.24288566e-22\n",
      "    1.60381089e-28   6.63967720e-36]\n",
      " [  3.67879441e-01   1.00000000e+00   3.67879441e-01   1.83156389e-02\n",
      "    1.23409804e-04   1.12535175e-07   1.38879439e-11   2.31952283e-16\n",
      "    5.24288566e-22   1.60381089e-28]\n",
      " [  1.83156389e-02   3.67879441e-01   1.00000000e+00   3.67879441e-01\n",
      "    1.83156389e-02   1.23409804e-04   1.12535175e-07   1.38879439e-11\n",
      "    2.31952283e-16   5.24288566e-22]\n",
      " [  1.23409804e-04   1.83156389e-02   3.67879441e-01   1.00000000e+00\n",
      "    3.67879441e-01   1.83156389e-02   1.23409804e-04   1.12535175e-07\n",
      "    1.38879439e-11   2.31952283e-16]\n",
      " [  1.12535175e-07   1.23409804e-04   1.83156389e-02   3.67879441e-01\n",
      "    1.00000000e+00   3.67879441e-01   1.83156389e-02   1.23409804e-04\n",
      "    1.12535175e-07   1.38879439e-11]\n",
      " [  1.38879439e-11   1.12535175e-07   1.23409804e-04   1.83156389e-02\n",
      "    3.67879441e-01   1.00000000e+00   3.67879441e-01   1.83156389e-02\n",
      "    1.23409804e-04   1.12535175e-07]\n",
      " [  2.31952283e-16   1.38879439e-11   1.12535175e-07   1.23409804e-04\n",
      "    1.83156389e-02   3.67879441e-01   1.00000000e+00   3.67879441e-01\n",
      "    1.83156389e-02   1.23409804e-04]\n",
      " [  5.24288566e-22   2.31952283e-16   1.38879439e-11   1.12535175e-07\n",
      "    1.23409804e-04   1.83156389e-02   3.67879441e-01   1.00000000e+00\n",
      "    3.67879441e-01   1.83156389e-02]\n",
      " [  1.60381089e-28   5.24288566e-22   2.31952283e-16   1.38879439e-11\n",
      "    1.12535175e-07   1.23409804e-04   1.83156389e-02   3.67879441e-01\n",
      "    1.00000000e+00   3.67879441e-01]\n",
      " [  6.63967720e-36   1.60381089e-28   5.24288566e-22   2.31952283e-16\n",
      "    1.38879439e-11   1.12535175e-07   1.23409804e-04   1.83156389e-02\n",
      "    3.67879441e-01   1.00000000e+00]]\n"
     ]
    }
   ],
   "source": [
    "n = 10 # thus, N = n^2. As I'm sampling from a plane, D = 2\n",
    "sigma = 0.1 \n",
    "grid_points = np.arange(n) / float(n)\n",
    "xx, yy = np.meshgrid(grid_points, grid_points)\n",
    "\n",
    "print \"\\nxx.T - xx\\n\", (xx.T - xx)\n",
    "print \"\\n(xx.T - xx)**2\\n\",(xx.T - xx)**2 \n",
    "print \"\\n(xx.T - xx)**2 + (yy.T - yy)**2\\n\", (xx.T - xx)**2 + (yy.T - yy)**2 \n",
    "print \"\\nnp.exp((xx.T - xx)**2 + (yy.T - yy)**2)\\n\", np.exp((xx.T - xx)**2 + (yy.T - yy)**2)\n",
    "print \"\\nnp.exp(-0.5 * ((xx.T - xx)**2 + (yy.T - yy)**2))\\n\", np.exp(-0.5 * ((xx.T - xx)**2 + (yy.T - yy)**2))\n",
    "print \"\\nnp.exp(-0.5 * ((xx.T - xx)**2 + (yy.T - yy)**2) / sigma**2)\\n\", np.exp(-0.5 * ((xx.T - xx)**2 + (yy.T - yy)**2) / sigma**2)\n",
    "L = np.exp(-0.5 * ((xx.T - xx)**2 + (yy.T - yy)**2) / sigma**2)"
   ]
  },
  {
   "cell_type": "code",
   "execution_count": 4,
   "metadata": {
    "collapsed": false
   },
   "outputs": [
    {
     "name": "stdout",
     "output_type": "stream",
     "text": [
      "Pr(Y = 0) = 1.0\n",
      "Pr(Y = 1) = 1.0\n"
     ]
    }
   ],
   "source": [
    "# Computing some probabilities using L-ensembles\n",
    "\n",
    "# computing the probability of a singleton {i}, i.e., a set containing a single element\n",
    "# np.linalg.det(L[0,0])\n",
    "print \"Pr(Y = 0) =\", L[0,0]\n",
    "print \"Pr(Y = 1) =\", L[1,1]"
   ]
  },
  {
   "cell_type": "code",
   "execution_count": 7,
   "metadata": {
    "collapsed": false
   },
   "outputs": [
    {
     "ename": "NameError",
     "evalue": "global name 'rows' is not defined",
     "output_type": "error",
     "traceback": [
      "\u001b[1;31m---------------------------------------------------------------------------\u001b[0m",
      "\u001b[1;31mNameError\u001b[0m                                 Traceback (most recent call last)",
      "\u001b[1;32m<ipython-input-7-ad1270e203c2>\u001b[0m in \u001b[0;36m<module>\u001b[1;34m()\u001b[0m\n\u001b[0;32m     10\u001b[0m     \u001b[1;32mpass\u001b[0m\u001b[1;33m\u001b[0m\u001b[0m\n\u001b[0;32m     11\u001b[0m \u001b[1;33m\u001b[0m\u001b[0m\n\u001b[1;32m---> 12\u001b[1;33m \u001b[1;32mprint\u001b[0m \u001b[0mslice_matrix_L\u001b[0m\u001b[1;33m(\u001b[0m\u001b[0mL\u001b[0m\u001b[1;33m,\u001b[0m \u001b[1;36m0\u001b[0m\u001b[1;33m,\u001b[0m \u001b[1;36m1\u001b[0m\u001b[1;33m)\u001b[0m\u001b[1;33m\u001b[0m\u001b[0m\n\u001b[0m\u001b[0;32m     13\u001b[0m \u001b[1;32mprint\u001b[0m \u001b[0mslice_matrix_L\u001b[0m\u001b[1;33m(\u001b[0m\u001b[0mL\u001b[0m\u001b[1;33m,\u001b[0m \u001b[1;36m3\u001b[0m\u001b[1;33m,\u001b[0m \u001b[1;36m6\u001b[0m\u001b[1;33m)\u001b[0m\u001b[1;33m\u001b[0m\u001b[0m\n\u001b[0;32m     14\u001b[0m \u001b[1;33m\u001b[0m\u001b[0m\n",
      "\u001b[1;32m<ipython-input-7-ad1270e203c2>\u001b[0m in \u001b[0;36mslice_matrix_L\u001b[1;34m(L, i, j)\u001b[0m\n\u001b[0;32m      1\u001b[0m \u001b[1;32mdef\u001b[0m \u001b[0mslice_matrix_L\u001b[0m\u001b[1;33m(\u001b[0m\u001b[0mL\u001b[0m\u001b[1;33m,\u001b[0m \u001b[0mi\u001b[0m\u001b[1;33m,\u001b[0m \u001b[0mj\u001b[0m\u001b[1;33m)\u001b[0m\u001b[1;33m:\u001b[0m \u001b[1;31m# first, considering only two indexes\u001b[0m\u001b[1;33m\u001b[0m\u001b[0m\n\u001b[0;32m      2\u001b[0m     \u001b[0mL_y\u001b[0m \u001b[1;33m=\u001b[0m \u001b[0mnp\u001b[0m\u001b[1;33m.\u001b[0m\u001b[0mzeros_like\u001b[0m\u001b[1;33m(\u001b[0m\u001b[0mL\u001b[0m\u001b[1;33m,\u001b[0m \u001b[0mdtype\u001b[0m\u001b[1;33m=\u001b[0m\u001b[0mbool\u001b[0m\u001b[1;33m)\u001b[0m\u001b[1;33m\u001b[0m\u001b[0m\n\u001b[1;32m----> 3\u001b[1;33m     \u001b[0midxs\u001b[0m \u001b[1;33m=\u001b[0m \u001b[1;33m[\u001b[0m\u001b[1;33m(\u001b[0m\u001b[0mr\u001b[0m\u001b[1;33m,\u001b[0m\u001b[0mc\u001b[0m\u001b[1;33m)\u001b[0m \u001b[1;32mfor\u001b[0m \u001b[0mr\u001b[0m \u001b[1;32min\u001b[0m \u001b[0mxrange\u001b[0m\u001b[1;33m(\u001b[0m\u001b[0mrows\u001b[0m\u001b[1;33m)\u001b[0m \u001b[1;32mfor\u001b[0m \u001b[0mc\u001b[0m \u001b[1;32min\u001b[0m \u001b[0mxrange\u001b[0m\u001b[1;33m(\u001b[0m\u001b[0mcols\u001b[0m\u001b[1;33m)\u001b[0m \u001b[1;32mif\u001b[0m \u001b[1;33m(\u001b[0m\u001b[0mr\u001b[0m \u001b[1;33m==\u001b[0m \u001b[0mi\u001b[0m \u001b[1;32mor\u001b[0m \u001b[0mr\u001b[0m \u001b[1;33m==\u001b[0m \u001b[0mj\u001b[0m\u001b[1;33m)\u001b[0m \u001b[1;32mand\u001b[0m \u001b[1;33m(\u001b[0m\u001b[0mc\u001b[0m \u001b[1;33m==\u001b[0m \u001b[0mi\u001b[0m \u001b[1;32mor\u001b[0m \u001b[0mc\u001b[0m \u001b[1;33m==\u001b[0m \u001b[0mj\u001b[0m\u001b[1;33m)\u001b[0m\u001b[1;33m]\u001b[0m\u001b[1;33m\u001b[0m\u001b[0m\n\u001b[0m\u001b[0;32m      4\u001b[0m     \u001b[1;32mfor\u001b[0m \u001b[0midx\u001b[0m \u001b[1;32min\u001b[0m \u001b[0midxs\u001b[0m\u001b[1;33m:\u001b[0m\u001b[1;33m\u001b[0m\u001b[0m\n\u001b[0;32m      5\u001b[0m         \u001b[0mL_y\u001b[0m\u001b[1;33m[\u001b[0m\u001b[0midx\u001b[0m\u001b[1;33m]\u001b[0m \u001b[1;33m=\u001b[0m \u001b[1;36m1\u001b[0m\u001b[1;33m\u001b[0m\u001b[0m\n",
      "\u001b[1;31mNameError\u001b[0m: global name 'rows' is not defined"
     ]
    }
   ],
   "source": [
    "def slice_matrix_L(L, i, j): # first, considering only two indexes\n",
    "    L_y = np.zeros_like(L, dtype=bool)\n",
    "    idxs = [(r,c) for r in xrange(rows) for c in xrange(cols) if (r == i or r == j) and (c == i or c == j)]\n",
    "    for idx in idxs:\n",
    "        L_y[idx] = 1\n",
    "    return L_y\n",
    "    \n",
    "def Pr(L, elems):\n",
    "    idxs = slice_matrix_L(L, *elems)\n",
    "    pass\n",
    "\n",
    "#print slice_matrix_L(L, 0, 1)\n",
    "#print slice_matrix_L(L, 3, 6)\n",
    "\n",
    "# L[slice_matrix_L(L, 0, 1)]\n",
    "print L[0:2, 0:2]\n",
    "print np.linalg.det(L[0:2, 0:2])\n",
    "\n",
    "#print \"by hand\", 1*1 - 0.36787944**2\n",
    "\n",
    "# computing the probability of Y = {i,j}, i.e., two elements\n",
    "#print \"Pr(Y = 0) =\", np.linalg.det(L[0,0])\n",
    "#print \"Pr(Y = 1) =\", L[1,1]"
   ]
  },
  {
   "cell_type": "code",
   "execution_count": 5,
   "metadata": {
    "collapsed": false
   },
   "outputs": [
    {
     "data": {
      "text/plain": [
       "0.8646647176252864"
      ]
     },
     "execution_count": 5,
     "metadata": {},
     "output_type": "execute_result"
    }
   ],
   "source": []
  }
 ],
 "metadata": {
  "kernelspec": {
   "display_name": "Python 2",
   "language": "python",
   "name": "python2"
  },
  "language_info": {
   "codemirror_mode": {
    "name": "ipython",
    "version": 2
   },
   "file_extension": ".py",
   "mimetype": "text/x-python",
   "name": "python",
   "nbconvert_exporter": "python",
   "pygments_lexer": "ipython2",
   "version": "2.7.6"
  }
 },
 "nbformat": 4,
 "nbformat_minor": 0
}
