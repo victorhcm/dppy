{
 "cells": [
  {
   "cell_type": "markdown",
   "metadata": {},
   "source": [
    "# Determinantal Point Process"
   ]
  },
  {
   "cell_type": "markdown",
   "metadata": {},
   "source": [
    "## Grid example\n",
    "\n"
   ]
  },
  {
   "cell_type": "markdown",
   "metadata": {},
   "source": [
    "In the grid example, suppose we have an auditorium with several seats dispoea grid of $n \\times n$ seats. We want to use a DPP model to the seats chosen by students attending a talk. We think that students will tend to spread out among the seats.\n",
    "![\"title\"](figs/auditorium.jpg)"
   ]
  },
  {
   "cell_type": "code",
   "execution_count": 1,
   "metadata": {
    "collapsed": true
   },
   "outputs": [],
   "source": [
    "import numpy as np\n",
    "import matplotlib.pyplot as plt\n",
    "\n",
    "# This is a bit of magic to make matplotlib figures appear inline in the notebook\n",
    "# rather than in a new window.\n",
    "%matplotlib inline\n",
    "plt.rcParams['figure.figsize'] = (10.0, 8.0) # set default size of plots\n",
    "plt.rcParams['image.interpolation'] = 'nearest'\n",
    "plt.rcParams['image.cmap'] = 'gray'\n",
    "\n",
    "# Some more magic so that the notebook will reload external python modules;\n",
    "# see http://stackoverflow.com/questions/1907993/autoreload-of-modules-in-ipython\n",
    "%load_ext autoreload\n",
    "%autoreload 2"
   ]
  },
  {
   "cell_type": "markdown",
   "metadata": {},
   "source": [
    "### Dummy sampling"
   ]
  },
  {
   "cell_type": "markdown",
   "metadata": {},
   "source": [
    "A dummy sampling approach consists of sampling an element a subset/element $A = {i}$ with probability $P(A = \\{i\\})$. After sampling the first element, we recompute the probabilities, but conditioning on the value that was previously sampled. Kulesza et al. presents a better approach based on the eigendecomposition, that we shall see further ahead.\n",
    "\n",
    "In this sampling problem, we shall consider the same example of sampling a set of points $\\{1,2,\\dots,n\\}$ from a 2D grid. Reintroducing the data:"
   ]
  },
  {
   "cell_type": "code",
   "execution_count": 13,
   "metadata": {
    "collapsed": false
   },
   "outputs": [
    {
     "data": {
      "text/plain": [
       "(-0.2, 1.2)"
      ]
     },
     "execution_count": 13,
     "metadata": {},
     "output_type": "execute_result"
    },
    {
     "data": {
      "image/png": "[encoded data removed]",
      "text/plain": [
       "<matplotlib.figure.Figure at 0x7f48ccb08b90>"
      ]
     },
     "metadata": {},
     "output_type": "display_data"
    }
   ],
   "source": [
    "# sampling points\n",
    "from dpp import DPP\n",
    "\n",
    "n = 10 # thus, N = n^2. As I'm sampling from a plane, D = 2\n",
    "sigma = 0.1 \n",
    "grid_points = np.arange(n) / float(n)\n",
    "\n",
    "dpp_grid = DPP(grid_points)\n",
    "\n",
    "sampled_idxs = dpp_grid.dummy_sampling(60)\n",
    "sampled_points = dpp_grid.idx_to_point[sampled_idxs]\n",
    "#print sampled_points\n",
    "plt.scatter(sampled_points[:,0], sampled_points[:,1])\n",
    "plt.xlim([-0.2, 1.2])\n",
    "plt.ylim([-0.2, 1.2])"
   ]
  },
  {
   "cell_type": "markdown",
   "metadata": {},
   "source": [
    "### Efficient sampling"
   ]
  },
  {
   "cell_type": "markdown",
   "metadata": {},
   "source": [
    "The dummy sampling algorithm aforementioned presents several issues. The main issue is the high computational cost, being infeasible to sample from larger grids, such as a $60 \\times 60$ grid. Kulesza et al. describes efficient algorithms for sampling. Here, we implement the first and more simple approach, in which is not possible to select the number of points to be sampled. We test it on a $60 \\times 60$ grid."
   ]
  },
  {
   "cell_type": "code",
   "execution_count": 5,
   "metadata": {
    "collapsed": false,
    "scrolled": false
   },
   "outputs": [
    {
     "data": {
      "text/plain": [
       "<matplotlib.collections.PathCollection at 0x7f7adc94a2d0>"
      ]
     },
     "execution_count": 5,
     "metadata": {},
     "output_type": "execute_result"
    },
    {
     "data": {
      "image/png": "[encoded data removed]",
      "text/plain": [
       "<matplotlib.figure.Figure at 0x7f7afc276bd0>"
      ]
     },
     "metadata": {},
     "output_type": "display_data"
    }
   ],
   "source": [
    "from dpp import DPP\n",
    "\n",
    "# parameters\n",
    "n = 60 # thus, N = n^2. As I'm sampling from a plane, D = 2\n",
    "sigma = 0.1 \n",
    "grid_points = np.arange(n) / float(n)\n",
    "\n",
    "dpp_grid = DPP(grid_points)\n",
    "\n",
    "# sampling points\n",
    "sampled_idxs = dpp_grid.sample_dpp()\n",
    "sampled_points = dpp_grid.idx_to_point[sampled_idxs]\n",
    "# print sampled_points\n",
    "plt.scatter(sampled_points[:,0], sampled_points[:,1])"
   ]
  },
  {
   "cell_type": "markdown",
   "metadata": {},
   "source": [
    "### Uniform sampling\n",
    "\n",
    "The students distribution presents a repulsion between them. But, what would happen if we tried to model such repulsion using an uniform distribution?"
   ]
  },
  {
   "cell_type": "code",
   "execution_count": 12,
   "metadata": {
    "collapsed": false
   },
   "outputs": [
    {
     "data": {
      "text/plain": [
       "<matplotlib.collections.PathCollection at 0x7f7adc706d50>"
      ]
     },
     "execution_count": 12,
     "metadata": {},
     "output_type": "execute_result"
    },
    {
     "data": {
      "image/png": "[encoded data removed]",
      "text/plain": [
       "<matplotlib.figure.Figure at 0x7f7adc857810>"
      ]
     },
     "metadata": {},
     "output_type": "display_data"
    }
   ],
   "source": [
    "ind_sample = np.random.randint(n*n, size=(100))\n",
    "# just using the indexing structure\n",
    "ind_points = dpp_grid.idx_to_point[ind_sample]\n",
    "plt.scatter(ind_points[:,0], ind_points[:,1])"
   ]
  },
  {
   "cell_type": "markdown",
   "metadata": {},
   "source": [
    "We see that several points are sampled next to each other, in comparison to points sampled from the DPP distribution."
   ]
  }
 ],
 "metadata": {
  "kernelspec": {
   "display_name": "Python 2",
   "language": "python",
   "name": "python2"
  },
  "language_info": {
   "codemirror_mode": {
    "name": "ipython",
    "version": 2
   },
   "file_extension": ".py",
   "mimetype": "text/x-python",
   "name": "python",
   "nbconvert_exporter": "python",
   "pygments_lexer": "ipython2",
   "version": "2.7.6"
  }
 },
 "nbformat": 4,
 "nbformat_minor": 0
}
